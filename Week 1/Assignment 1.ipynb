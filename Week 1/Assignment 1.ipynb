{
 "cells": [
  {
   "cell_type": "markdown",
   "id": "9be7fe47",
   "metadata": {},
   "source": [
    "Q1. Create one variable containing following type of data:\n",
    "(i) string\n",
    "(ii) list\n",
    "(iii) float\n",
    "(iv) tuple"
   ]
  },
  {
   "cell_type": "code",
   "execution_count": 1,
   "id": "7b6b0715",
   "metadata": {},
   "outputs": [
    {
     "data": {
      "text/plain": [
       "['parth', [1, 2, 3], 3.14, (4, 5, 6)]"
      ]
     },
     "execution_count": 1,
     "metadata": {},
     "output_type": "execute_result"
    }
   ],
   "source": [
    "var1  = ['parth', [1,2,3], 3.14, (4,5,6)]\n",
    "var1"
   ]
  },
  {
   "cell_type": "markdown",
   "id": "12301241",
   "metadata": {},
   "source": [
    "Q2. Given are some following variables containing data:\n",
    "(i) var1 = ‘ ‘\n",
    "(ii) var2 = ‘[ DS , ML , Python]’\n",
    "(iii) var3 = [ ‘DS’ , ’ML’ , ‘Python’ ]\n",
    "(iv) var4 = 1."
   ]
  },
  {
   "cell_type": "code",
   "execution_count": 3,
   "id": "6edb4238",
   "metadata": {},
   "outputs": [
    {
     "name": "stdout",
     "output_type": "stream",
     "text": [
      "<class 'str'>\n",
      "<class 'str'>\n",
      "<class 'list'>\n",
      "<class 'int'>\n"
     ]
    }
   ],
   "source": [
    "var1 = ''\n",
    "var2 = '[DS, ML, Python]'\n",
    "var3 = ['DS', 'ML', 'Python']\n",
    "var4 = 1\n",
    "\n",
    "print(type(var1))\n",
    "print(type(var2))\n",
    "print(type(var3))\n",
    "print(type(var4))"
   ]
  },
  {
   "cell_type": "markdown",
   "id": "63863e56",
   "metadata": {},
   "source": [
    "Q3. Explain the use of the following operators using an example:\n",
    "(i) /\n",
    "(ii) %\n",
    "(iii) //\n",
    "(iv) **"
   ]
  },
  {
   "cell_type": "code",
   "execution_count": 1,
   "id": "67565d8a",
   "metadata": {},
   "outputs": [
    {
     "name": "stdout",
     "output_type": "stream",
     "text": [
      "5.0\n",
      "0\n",
      "5\n",
      "100\n"
     ]
    }
   ],
   "source": [
    "a=10\n",
    "b=2\n",
    "\n",
    "print(a/b) # /  :- / is arithmetic operator use for the division\n",
    "print(a%b) # %  :- % is arithmetic operator use for the derive the modulus\n",
    "print(a//b) # // :- // is arithmetic operator use for the floor division\n",
    "print(a**b) # ** :- **  is arithmetic operator use for the Exponentiation"
   ]
  },
  {
   "cell_type": "markdown",
   "id": "872cc5c2",
   "metadata": {},
   "source": [
    "Q4. Create a list of length 10 of your choice containing multiple types of data. Using for loop print the\n",
    "element and its data type.|"
   ]
  },
  {
   "cell_type": "code",
   "execution_count": 4,
   "id": "dbf7e2db",
   "metadata": {},
   "outputs": [
    {
     "name": "stdout",
     "output_type": "stream",
     "text": [
      "1\n",
      "<class 'int'>\n",
      "2.3\n",
      "<class 'float'>\n",
      "parth\n",
      "<class 'str'>\n",
      "[1, 2, 3]\n",
      "<class 'list'>\n",
      "{1, 2, 3}\n",
      "<class 'set'>\n",
      "{'key': 'value'}\n",
      "<class 'dict'>\n",
      "True\n",
      "<class 'bool'>\n",
      "(5+2j)\n",
      "<class 'complex'>\n",
      "(1, 2, 3)\n",
      "<class 'tuple'>\n",
      "False\n",
      "<class 'bool'>\n"
     ]
    }
   ],
   "source": [
    "lst = [1,2.3,\"parth\",[1,2,3],{1,2,3},{\"key\":\"value\"},True,5+2j,(1,2,3),False]\n",
    "\n",
    "for i in lst:\n",
    "    print(i)\n",
    "    print(type(i))"
   ]
  },
  {
   "cell_type": "markdown",
   "id": "c5598928",
   "metadata": {},
   "source": [
    "Q5. Using a while loop, verify if the number A is purely divisible by number B and if so then how many\n",
    "times it can be divisible.|"
   ]
  },
  {
   "cell_type": "code",
   "execution_count": 9,
   "id": "c62d5285",
   "metadata": {},
   "outputs": [
    {
     "name": "stdout",
     "output_type": "stream",
     "text": [
      "A is divisible by B, and it can divided by\n",
      "3\n"
     ]
    }
   ],
   "source": [
    "A = 1500\n",
    "B = 5\n",
    "count = 0\n",
    "\n",
    "while A%B == 0:\n",
    "    A = A//B\n",
    "    count += 1\n",
    "    \n",
    "if count > 0:\n",
    "    print(\"A is divisible by B, and it can divided by\")\n",
    "    print(count)\n",
    "else:\n",
    "        print(\"A is not divisible by B\")\n",
    "    \n",
    "    "
   ]
  },
  {
   "cell_type": "markdown",
   "id": "89ac153a",
   "metadata": {},
   "source": [
    "Q6. Create a list containing 25 int type data. Using for loop and if-else condition print if the element is\n",
    "divisible by 3 or not."
   ]
  },
  {
   "cell_type": "code",
   "execution_count": 11,
   "id": "bb16abec",
   "metadata": {},
   "outputs": [
    {
     "name": "stdout",
     "output_type": "stream",
     "text": [
      "1is not divisible by 3\n",
      "2is not divisible by 3\n",
      "3is divisible by 3\n",
      "4is not divisible by 3\n",
      "5is not divisible by 3\n",
      "6is divisible by 3\n",
      "7is not divisible by 3\n",
      "8is not divisible by 3\n",
      "9is divisible by 3\n",
      "10is not divisible by 3\n",
      "11is not divisible by 3\n",
      "12is divisible by 3\n",
      "13is not divisible by 3\n",
      "14is not divisible by 3\n",
      "15is divisible by 3\n",
      "16is not divisible by 3\n",
      "17is not divisible by 3\n",
      "18is divisible by 3\n",
      "19is not divisible by 3\n",
      "20is not divisible by 3\n",
      "21is divisible by 3\n",
      "22is not divisible by 3\n",
      "23is not divisible by 3\n",
      "24is divisible by 3\n",
      "25is not divisible by 3\n"
     ]
    }
   ],
   "source": [
    "p = list(range(1,26))\n",
    "\n",
    "for i in p:\n",
    "    if(i%3 == 0):\n",
    "        print(f\"{i}is divisible by 3\")\n",
    "    else:\n",
    "        print(f\"{i}is not divisible by 3\")\n",
    "        \n",
    "    "
   ]
  },
  {
   "cell_type": "markdown",
   "id": "ab1508bc",
   "metadata": {},
   "source": [
    "Q7. What do you understand about mutable and immutable data types? Give examples for both showing\n",
    "this property."
   ]
  },
  {
   "cell_type": "code",
   "execution_count": 12,
   "id": "cb94c7db",
   "metadata": {},
   "outputs": [
    {
     "ename": "TypeError",
     "evalue": "'tuple' object does not support item assignment",
     "output_type": "error",
     "traceback": [
      "\u001b[1;31m---------------------------------------------------------------------------\u001b[0m",
      "\u001b[1;31mTypeError\u001b[0m                                 Traceback (most recent call last)",
      "Cell \u001b[1;32mIn[12], line 5\u001b[0m\n\u001b[0;32m      2\u001b[0m b \u001b[38;5;241m=\u001b[39m (\u001b[38;5;241m1\u001b[39m,\u001b[38;5;241m2\u001b[39m,\u001b[38;5;241m3\u001b[39m,\u001b[38;5;241m4\u001b[39m,\u001b[38;5;241m5\u001b[39m)\n\u001b[0;32m      4\u001b[0m a[\u001b[38;5;241m3\u001b[39m] \u001b[38;5;241m=\u001b[39m \u001b[38;5;241m99\u001b[39m \u001b[38;5;66;03m#it will successfully change\u001b[39;00m\n\u001b[1;32m----> 5\u001b[0m \u001b[43mb\u001b[49m\u001b[43m[\u001b[49m\u001b[38;5;241;43m3\u001b[39;49m\u001b[43m]\u001b[49m \u001b[38;5;241m=\u001b[39m \u001b[38;5;241m99\u001b[39m \u001b[38;5;66;03m#output: tuple' object does not support item assignment\u001b[39;00m\n\u001b[0;32m      7\u001b[0m \u001b[38;5;66;03m#therefore we cannot change the existing values in immutable objects, and also we cannot add new values in existing tuple objects.\u001b[39;00m\n",
      "\u001b[1;31mTypeError\u001b[0m: 'tuple' object does not support item assignment"
     ]
    }
   ],
   "source": [
    "a = [1,2,3,4,5]\n",
    "b = (1,2,3,4,5)\n",
    "\n",
    "a[3] = 99 #it will successfully change\n",
    "b[3] = 99 #output: tuple' object does not support item assignment\n",
    "\n",
    "#therefore we cannot change the existing values in immutable objects, and also we cannot add new values in existing tuple objects."
   ]
  },
  {
   "cell_type": "code",
   "execution_count": null,
   "id": "174d3122",
   "metadata": {},
   "outputs": [],
   "source": []
  }
 ],
 "metadata": {
  "kernelspec": {
   "display_name": "Python 3 (ipykernel)",
   "language": "python",
   "name": "python3"
  },
  "language_info": {
   "codemirror_mode": {
    "name": "ipython",
    "version": 3
   },
   "file_extension": ".py",
   "mimetype": "text/x-python",
   "name": "python",
   "nbconvert_exporter": "python",
   "pygments_lexer": "ipython3",
   "version": "3.11.3"
  }
 },
 "nbformat": 4,
 "nbformat_minor": 5
}
