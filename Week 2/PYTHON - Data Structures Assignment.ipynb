{
 "cells": [
  {
   "cell_type": "markdown",
   "id": "4b4171ec",
   "metadata": {},
   "source": [
    "## Q1. How do you comment code in Python? What are the different types of comments?"
   ]
  },
  {
   "cell_type": "markdown",
   "id": "50f04d36",
   "metadata": {},
   "source": [
    "There are 2 ways to write a comment - as a separate line and multi-line comment block.\n",
    " \n",
    " 1. Single-line comments begin with the “#” character\n",
    " 2. multi-line comment begin with the \"\"\" and with \"\"\"\n",
    " "
   ]
  },
  {
   "cell_type": "code",
   "execution_count": 1,
   "id": "18364b87",
   "metadata": {},
   "outputs": [
    {
     "name": "stdout",
     "output_type": "stream",
     "text": [
      "-1\n"
     ]
    }
   ],
   "source": [
    "# single-line comment\n",
    "a = 10\n",
    "b = 11\n",
    "\n",
    "print(a-b) # subtraction operator use"
   ]
  },
  {
   "cell_type": "markdown",
   "id": "158de992",
   "metadata": {},
   "source": [
    "\"\"\"\n",
    "This is a \n",
    "multi-line comment\n",
    "\"\"\"\n",
    "print(\"multi line comment\")\n"
   ]
  },
  {
   "cell_type": "markdown",
   "id": "1eba8562",
   "metadata": {},
   "source": [
    "## Q2. What are variables in Python? How do you declare and assign values to variables?"
   ]
  },
  {
   "cell_type": "markdown",
   "id": "bc0da02d",
   "metadata": {},
   "source": [
    "In Python, variables are used to store and manipulate data. A variable is essentially a named location in the computer's memory where a value can be stored. It allows you to refer to the stored value by its assigned name."
   ]
  },
  {
   "cell_type": "code",
   "execution_count": 3,
   "id": "102c4d38",
   "metadata": {},
   "outputs": [],
   "source": [
    "age = 25\n",
    "name = \"PARTH BHALANI\"\n",
    "pi = 3.14\n",
    "is_student = True"
   ]
  },
  {
   "cell_type": "code",
   "execution_count": 4,
   "id": "08e00a55",
   "metadata": {},
   "outputs": [
    {
     "name": "stdout",
     "output_type": "stream",
     "text": [
      "25\n",
      "PARTH BHALANI\n",
      "3.14\n",
      "True\n"
     ]
    }
   ],
   "source": [
    "print(age)\n",
    "print(name)\n",
    "print(pi )\n",
    "print(age)"
   ]
  },
  {
   "cell_type": "markdown",
   "id": "9e973948",
   "metadata": {},
   "source": [
    "## Q3. How do you convert one data type to another in Python?"
   ]
  },
  {
   "cell_type": "code",
   "execution_count": 5,
   "id": "6e3b1065",
   "metadata": {},
   "outputs": [],
   "source": [
    "num = int(\"10\")  # Converts the string \"10\" to the integer 10\n",
    "num = float(\"3.14\")  # Converts the string \"3.14\" to the float 3.14\n",
    "text = str(42)  # Converts the integer 42 to the string \"42\"\n",
    "is_true = bool(1)  # Converts the integer 1 to the boolean True\n",
    "numbers = list((1, 2, 3))  # Converts the tuple (1, 2, 3) to the list [1, 2, 3]\n",
    "items = tuple([1, 2, 3])  # Converts the list [1, 2, 3] to the tuple (1, 2, 3)\n",
    "unique_numbers = set([1, 2, 3, 2, 1])  # Converts the list to a set {1, 2, 3}\n",
    "person = dict(name=\"John\", age=30)  # Converts the key-value pairs to a dictionary {'name': 'John', 'age': 30}"
   ]
  },
  {
   "cell_type": "markdown",
   "id": "f0fa6db5",
   "metadata": {},
   "source": [
    "## Q4. How do you write and execute a Python script from the command line?"
   ]
  },
  {
   "cell_type": "markdown",
   "id": "fb0da5bf",
   "metadata": {},
   "source": [
    "To write and execute a Python script from the command line, follow these steps:\n",
    "\n",
    "Open a text editor and create a new file. Save it with a .py extension, which is the convention for Python scripts. For example, I can save the file as script.py.\n",
    "\n",
    "Write your Python code in the file using the text editor. For example, you can write a simple \"Hello, World!\".|"
   ]
  },
  {
   "cell_type": "code",
   "execution_count": 7,
   "id": "e76a5562",
   "metadata": {},
   "outputs": [
    {
     "name": "stdout",
     "output_type": "stream",
     "text": [
      "Hello World!!\n"
     ]
    }
   ],
   "source": [
    "print(\"Hello World!!\")"
   ]
  },
  {
   "cell_type": "markdown",
   "id": "7a98924c",
   "metadata": {},
   "source": [
    "Now save this file, and open terminal or cmd in that folder, now write \"python script.py\".\n",
    "It will exeute the file and will show the output."
   ]
  },
  {
   "cell_type": "markdown",
   "id": "bf05eaf1",
   "metadata": {},
   "source": [
    "## Q5. Given a list my_list = [1, 2, 3, 4, 5], write the code to slice the list and obtain the sub-list [2, 3]."
   ]
  },
  {
   "cell_type": "code",
   "execution_count": 8,
   "id": "7f1d4716",
   "metadata": {},
   "outputs": [
    {
     "name": "stdout",
     "output_type": "stream",
     "text": [
      "[2, 3]\n"
     ]
    }
   ],
   "source": [
    "my_list = [1, 2, 3, 4, 5]\n",
    "print(my_list[1:3])"
   ]
  },
  {
   "cell_type": "markdown",
   "id": "1fb2f609",
   "metadata": {},
   "source": [
    "## Q6. What is a complex number in mathematics, and how is it represented in Python?"
   ]
  },
  {
   "cell_type": "markdown",
   "id": "cec15cf8",
   "metadata": {},
   "source": [
    "In mathematics, a complex number is a number that can be expressed in the form a + bi, where a and b are real numbers, and i is the imaginary unit defined as the square root of -1. The real part a represents the real number component, and the imaginary part b represents the imaginary number component."
   ]
  },
  {
   "cell_type": "code",
   "execution_count": 9,
   "id": "dd357586",
   "metadata": {},
   "outputs": [],
   "source": [
    "z = 2 + 3j #complex number in python, where 2 is real part and 3j is imaginary part."
   ]
  },
  {
   "cell_type": "markdown",
   "id": "d2fcb54b",
   "metadata": {},
   "source": [
    "## Q7. What is the correct way to declare a variable named age and assign the value 25 to it?"
   ]
  },
  {
   "cell_type": "code",
   "execution_count": 10,
   "id": "d23c72f5",
   "metadata": {},
   "outputs": [],
   "source": [
    "age = 25"
   ]
  },
  {
   "cell_type": "code",
   "execution_count": 11,
   "id": "c1361af4",
   "metadata": {},
   "outputs": [
    {
     "name": "stdout",
     "output_type": "stream",
     "text": [
      "25\n"
     ]
    }
   ],
   "source": [
    "print(age)"
   ]
  },
  {
   "cell_type": "markdown",
   "id": "f4861798",
   "metadata": {},
   "source": [
    "## Q8. Declare a variable named price and assign the value 9.99 to it. What data type does this variable belong to?"
   ]
  },
  {
   "cell_type": "code",
   "execution_count": 12,
   "id": "21714753",
   "metadata": {},
   "outputs": [
    {
     "name": "stdout",
     "output_type": "stream",
     "text": [
      "<class 'float'>\n"
     ]
    }
   ],
   "source": [
    "price = 9.99\n",
    "print(type(price)) #output: <class 'float'>"
   ]
  },
  {
   "cell_type": "markdown",
   "id": "a445f7f1",
   "metadata": {},
   "source": [
    "## Q9. Create a variable named name and assign your full name to it as a string. How would you print the  value of this variable?"
   ]
  },
  {
   "cell_type": "code",
   "execution_count": 13,
   "id": "1f39192d",
   "metadata": {},
   "outputs": [
    {
     "name": "stdout",
     "output_type": "stream",
     "text": [
      "PARTH BHALANI\n"
     ]
    }
   ],
   "source": [
    "name = \"PARTH BHALANI\"\n",
    "print(name)"
   ]
  },
  {
   "cell_type": "markdown",
   "id": "c0ed66ef",
   "metadata": {},
   "source": [
    "## Q10. Given the string \"Hello, World!\", extract the substring \"World\"."
   ]
  },
  {
   "cell_type": "code",
   "execution_count": 14,
   "id": "9a830a39",
   "metadata": {},
   "outputs": [
    {
     "name": "stdout",
     "output_type": "stream",
     "text": [
      "World\n"
     ]
    }
   ],
   "source": [
    "string = \"Hello, World!\"\n",
    "print(string[7:12])"
   ]
  },
  {
   "cell_type": "markdown",
   "id": "50a54fbf",
   "metadata": {},
   "source": [
    "## Q11. Create a variable named \"is_student\" and assign it a boolean value indicating whether you are currently a student or not."
   ]
  },
  {
   "cell_type": "code",
   "execution_count": 15,
   "id": "78d7d96e",
   "metadata": {},
   "outputs": [
    {
     "name": "stdout",
     "output_type": "stream",
     "text": [
      "You are a student with us !\n"
     ]
    }
   ],
   "source": [
    "is_student = True\n",
    "\n",
    "if (is_student):\n",
    "    print(\"You are a student with us !\")\n",
    "else:\n",
    "    print(\"You are not a student with us till now, Subscribe to become one :)\")"
   ]
  },
  {
   "cell_type": "code",
   "execution_count": null,
   "id": "0e315c22",
   "metadata": {},
   "outputs": [],
   "source": []
  }
 ],
 "metadata": {
  "kernelspec": {
   "display_name": "Python 3 (ipykernel)",
   "language": "python",
   "name": "python3"
  },
  "language_info": {
   "codemirror_mode": {
    "name": "ipython",
    "version": 3
   },
   "file_extension": ".py",
   "mimetype": "text/x-python",
   "name": "python",
   "nbconvert_exporter": "python",
   "pygments_lexer": "ipython3",
   "version": "3.11.3"
  }
 },
 "nbformat": 4,
 "nbformat_minor": 5
}
