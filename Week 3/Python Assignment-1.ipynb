{
 "cells": [
  {
   "cell_type": "markdown",
   "id": "4ee19f3f",
   "metadata": {},
   "source": [
    "## Q1. Which keyword is used to create a function? Create a function to return a list of odd numbers in the range of 1 to 25."
   ]
  },
  {
   "cell_type": "markdown",
   "id": "6155f229",
   "metadata": {},
   "source": [
    "def keyword is used to crate function.\n",
    "\n",
    "syntax:\n",
    "def function_name(arguments):\n",
    "  body"
   ]
  },
  {
   "cell_type": "code",
   "execution_count": 7,
   "id": "f9f35605",
   "metadata": {},
   "outputs": [
    {
     "data": {
      "text/plain": [
       "[1, 3, 5, 7, 9, 11, 13, 15, 17, 19, 21, 23, 25]"
      ]
     },
     "execution_count": 7,
     "metadata": {},
     "output_type": "execute_result"
    }
   ],
   "source": [
    "def odd_numbers():\n",
    "     ## Returns a list of odd numbers in the range of 1 to 25.\n",
    "    odd_numbers =[]   \n",
    "    for i in range(1,26):\n",
    "        if i % 2 == 1:\n",
    "            odd_numbers.append(i)\n",
    "    return odd_numbers       \n",
    "odd_numbers()     "
   ]
  },
  {
   "cell_type": "markdown",
   "id": "0294bf6a",
   "metadata": {},
   "source": [
    "## Q2. Why *args and **kwargs is used in some functions? Create a function each for *args and **kwargs to demonstrate their use.\n",
    "\n",
    "**Answer :**\n",
    "\n",
    "*args and **kwargs are used in some functions to allow the function to take an arbitrary number of arguments. *args is used to take an arbitrary number of positional arguments, while **kwargs is used to take an arbitrary number of keyword arguments.\n"
   ]
  },
  {
   "cell_type": "code",
   "execution_count": 17,
   "id": "dec2436d",
   "metadata": {},
   "outputs": [
    {
     "name": "stdout",
     "output_type": "stream",
     "text": [
      "('parth', 34, 85.2, [1, 2, 85, 65])\n"
     ]
    }
   ],
   "source": [
    "# *args example\n",
    "\n",
    "def fun1 (*args):\n",
    "    print(args)\n",
    "\n",
    "    \n",
    "fun1(\"parth\",34,85.2,[1,2,85,65])    "
   ]
  },
  {
   "cell_type": "code",
   "execution_count": 18,
   "id": "0fcc81f7",
   "metadata": {},
   "outputs": [
    {
     "name": "stdout",
     "output_type": "stream",
     "text": [
      "name: Bard\n",
      "age: 100\n"
     ]
    }
   ],
   "source": [
    "# function that uses **kwargs\n",
    "\n",
    "def fun2(**kwargs):\n",
    "    for key, value in kwargs.items():\n",
    "        print(f\"{key}: {value}\")\n",
    "       \n",
    "    \n",
    "fun2(name=\"Bard\", age=100)"
   ]
  },
  {
   "cell_type": "markdown",
   "id": "01cb6ec5",
   "metadata": {},
   "source": [
    "## Q3.  What is an iterator in python? Name the method used to initialise the iterator object and the method used for iteration. Use these methods to print the first five elements of the given list [2, 4, 6, 8, 10, 12, 14, 16, 18, 20]."
   ]
  },
  {
   "cell_type": "markdown",
   "id": "b46e3d4e",
   "metadata": {},
   "source": [
    "An iterator is an object that can be used to iterate over a sequence of values. An iterator is created using the iter() function. The iter() function takes an iterable as input and returns an iterator object.\n",
    "\n",
    "you can use the next() function to get the next element of the sequence. The next() function raises a StopIteration exception if there are no more elements in the sequence. \n"
   ]
  },
  {
   "cell_type": "code",
   "execution_count": 1,
   "id": "5b00e90c",
   "metadata": {},
   "outputs": [
    {
     "name": "stdout",
     "output_type": "stream",
     "text": [
      "2\n",
      "4\n",
      "6\n",
      "8\n",
      "10\n"
     ]
    }
   ],
   "source": [
    "N =  [2, 4, 6, 8, 10, 12, 14, 16, 18, 20]\n",
    "\n",
    "iterator = iter(N)\n",
    "print(next(iterator))\n",
    "print(next(iterator))\n",
    "print(next(iterator))\n",
    "print(next(iterator))\n",
    "print(next(iterator))"
   ]
  },
  {
   "cell_type": "markdown",
   "id": "699a7577",
   "metadata": {},
   "source": [
    "## Q4.  What is a generator function in python? Why yield keyword is used? Give an example of a generator function."
   ]
  },
  {
   "cell_type": "markdown",
   "id": "04b9044f",
   "metadata": {},
   "source": [
    "A generator function is a special type of function that returns an iterator. Generator functions are used to create sequences of values that are not stored in memory all at once. This can be useful for large or infinite sequences of values, as it can save memory and improve performance.\n",
    "\n",
    "The yield keyword is used in generator functions to return a value from the function without actually finishing the function. The next time the function is called, it will resume from the point where it left off. This allows generator functions to create sequences of values that are not stored in memory all at once."
   ]
  },
  {
   "cell_type": "code",
   "execution_count": 3,
   "id": "3ca71d67",
   "metadata": {},
   "outputs": [
    {
     "name": "stdout",
     "output_type": "stream",
     "text": [
      "0\n",
      "1\n",
      "2\n",
      "3\n",
      "4\n",
      "5\n",
      "6\n",
      "7\n",
      "8\n",
      "9\n"
     ]
    }
   ],
   "source": [
    "def generator_function():\n",
    "    for i in range(10):\n",
    "        yield i\n",
    "        \n",
    "for number in generator_function():\n",
    "    print(number)"
   ]
  },
  {
   "cell_type": "markdown",
   "id": "d7aba9b6",
   "metadata": {},
   "source": [
    "## Q5. Create a generator function for prime numbers less than 1000. Use the next() method to print the first 20 prime numbers."
   ]
  },
  {
   "cell_type": "code",
   "execution_count": 8,
   "id": "3e17292a",
   "metadata": {},
   "outputs": [
    {
     "name": "stdout",
     "output_type": "stream",
     "text": [
      "2\n",
      "3\n",
      "5\n",
      "7\n",
      "11\n",
      "13\n",
      "17\n",
      "19\n",
      "23\n",
      "29\n",
      "31\n",
      "37\n",
      "41\n",
      "43\n",
      "47\n",
      "53\n",
      "59\n",
      "61\n",
      "67\n",
      "71\n"
     ]
    }
   ],
   "source": [
    "def prime_generator():\n",
    "    yield 2  # 2 is the first prime number\n",
    "    primes = [2]  # List to store prime numbers\n",
    "    num = 3  # Starting number to check for primality\n",
    "\n",
    "    while num < 1000:\n",
    "        is_prime = True\n",
    "        for prime in primes:\n",
    "            if prime * prime > num:\n",
    "                break\n",
    "            if num % prime == 0:\n",
    "                is_prime = False\n",
    "                break\n",
    "\n",
    "        if is_prime:\n",
    "            primes.append(num)\n",
    "            yield num\n",
    "\n",
    "        num += 2  # Check only odd numbers for efficiency\n",
    "\n",
    "# Generate and print the first 20 prime numbers\n",
    "prime_gen = prime_generator()\n",
    "for _ in range(20):\n",
    "    print(next(prime_gen))\n",
    "    "
   ]
  },
  {
   "cell_type": "markdown",
   "id": "991971e8",
   "metadata": {},
   "source": [
    "## Q6. Write a python program to print the first 10 Fibonacci numbers using a while loop."
   ]
  },
  {
   "cell_type": "code",
   "execution_count": 2,
   "id": "41c0cf1f",
   "metadata": {},
   "outputs": [
    {
     "name": "stdout",
     "output_type": "stream",
     "text": [
      "Enter the Number:10\n",
      "0\n",
      "1\n",
      "1\n",
      "2\n",
      "3\n",
      "5\n",
      "8\n",
      "13\n",
      "21\n",
      "34\n"
     ]
    }
   ],
   "source": [
    "n = int(input(\"Enter the Number:\"))\n",
    "x = 0\n",
    "y = 1\n",
    "z = 0\n",
    "i = 0\n",
    "while i != n:\n",
    "    print(z)\n",
    "    x = y\n",
    "    y = z\n",
    "    z = x + y\n",
    "    i = i + 1\n",
    "    \n",
    "    \n",
    "       "
   ]
  },
  {
   "cell_type": "markdown",
   "id": "819c1559",
   "metadata": {},
   "source": [
    "## Q7. Write a List Comprehension to iterate through the given string: ‘pwskills’.Expected output: ['p', 'w', 's', 'k', 'i', 'l', 'l', 's'] "
   ]
  },
  {
   "cell_type": "code",
   "execution_count": 18,
   "id": "1d78527c",
   "metadata": {},
   "outputs": [
    {
     "name": "stdout",
     "output_type": "stream",
     "text": [
      "['p', 'w', 's', 'k', 'i', 'l', 'l', 's']\n"
     ]
    }
   ],
   "source": [
    "s = \"pwskills\"\n",
    "lst = [char for char in s]\n",
    "print(lst)"
   ]
  },
  {
   "cell_type": "markdown",
   "id": "d0e19a35",
   "metadata": {},
   "source": [
    "## Q8. Write a python program to check whether a given number is Palindrome or not using a while loop."
   ]
  },
  {
   "cell_type": "code",
   "execution_count": 23,
   "id": "c2d2b180",
   "metadata": {},
   "outputs": [
    {
     "name": "stdout",
     "output_type": "stream",
     "text": [
      "Enter the Number:45\n",
      "The given number is not a Palindrome\n"
     ]
    }
   ],
   "source": [
    "i = int(input(\"Enter the Number:\"))\n",
    "rev = 0\n",
    "x = i\n",
    "\n",
    "while (i>0):\n",
    "    rev = (rev*10) + i%10\n",
    "    i = i//10\n",
    "    \n",
    "if(x==rev):\n",
    "    print(\"The given number is Palindrome\")\n",
    "else :\n",
    "    print(\"The given number is not a Palindrome\")\n",
    "    \n"
   ]
  },
  {
   "cell_type": "markdown",
   "id": "01309cda",
   "metadata": {},
   "source": [
    "## Q9. Write a code to print odd numbers from 1 to 100 using list comprehension."
   ]
  },
  {
   "cell_type": "code",
   "execution_count": 24,
   "id": "93b0c778",
   "metadata": {},
   "outputs": [
    {
     "name": "stdout",
     "output_type": "stream",
     "text": [
      "[1, 3, 5, 7, 9, 11, 13, 15, 17, 19, 21, 23, 25, 27, 29, 31, 33, 35, 37, 39, 41, 43, 45, 47, 49, 51, 53, 55, 57, 59, 61, 63, 65, 67, 69, 71, 73, 75, 77, 79, 81, 83, 85, 87, 89, 91, 93, 95, 97, 99]\n"
     ]
    }
   ],
   "source": [
    "lst = [ele  for ele in range(1,101)]\n",
    "lst_odd = [ele for ele in lst if ele&1]\n",
    "print(lst_odd)"
   ]
  },
  {
   "cell_type": "code",
   "execution_count": null,
   "id": "df316ddb",
   "metadata": {},
   "outputs": [],
   "source": []
  },
  {
   "cell_type": "code",
   "execution_count": null,
   "id": "d4e652e7",
   "metadata": {},
   "outputs": [],
   "source": []
  },
  {
   "cell_type": "code",
   "execution_count": null,
   "id": "046fa76e",
   "metadata": {},
   "outputs": [],
   "source": []
  }
 ],
 "metadata": {
  "kernelspec": {
   "display_name": "Python 3 (ipykernel)",
   "language": "python",
   "name": "python3"
  },
  "language_info": {
   "codemirror_mode": {
    "name": "ipython",
    "version": 3
   },
   "file_extension": ".py",
   "mimetype": "text/x-python",
   "name": "python",
   "nbconvert_exporter": "python",
   "pygments_lexer": "ipython3",
   "version": "3.11.3"
  }
 },
 "nbformat": 4,
 "nbformat_minor": 5
}
