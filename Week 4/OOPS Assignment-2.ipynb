{
 "cells": [
  {
   "cell_type": "markdown",
   "id": "8ce30e3e",
   "metadata": {},
   "source": [
    "## Q1. What is Abstraction in OOPs? Explain with an example."
   ]
  },
  {
   "cell_type": "markdown",
   "id": "f0d82885",
   "metadata": {},
   "source": [
    "Abstraction is a concept in OOPs that hides the internal implementation of a method from the user"
   ]
  },
  {
   "cell_type": "code",
   "execution_count": 1,
   "id": "3a511c5b",
   "metadata": {},
   "outputs": [],
   "source": [
    "from abc import ABC, abstractmethod\n",
    "\n",
    "class Vehicle(ABC):\n",
    "    @abstractmethod\n",
    "    def start(self):\n",
    "        pass\n",
    "\n",
    "    @abstractmethod\n",
    "    def stop(self):\n",
    "        pass\n",
    "\n",
    "class Car(Vehicle):\n",
    "    def start(self):\n",
    "        print(\"Car started\")\n",
    "\n",
    "    def stop(self):\n",
    "        print(\"Car stopped\")"
   ]
  },
  {
   "cell_type": "markdown",
   "id": "9951ff7c",
   "metadata": {},
   "source": [
    "In this example, I have an abstract class called 'Vehicle'. It has two abstract methods known as 'start' and 'stop'. Now I create a car class, which inherits from the vehicle class. Then I implement the 'start' and 'stop' methods in my own style."
   ]
  },
  {
   "cell_type": "markdown",
   "id": "8f474592",
   "metadata": {},
   "source": [
    "## Q2. Differentiate between Abstraction and Encapsulation. Explain with an example."
   ]
  },
  {
   "cell_type": "markdown",
   "id": "31bf16f5",
   "metadata": {},
   "source": [
    "In abstraction, the implementation details of an object are hidden from the user and only the necessary information is displayed. Encapsulation is the process of wrapping data and code into a single unit. It restricts users to access it from outside."
   ]
  },
  {
   "cell_type": "code",
   "execution_count": 2,
   "id": "aa572938",
   "metadata": {},
   "outputs": [],
   "source": [
    "#  Here is an example of Abstraction:\n",
    "\n",
    "from abc import ABC, abstractmethod\n",
    "\n",
    "class Vehicle(ABC):\n",
    "    @abstractmethod\n",
    "    def start(self):\n",
    "        pass\n",
    "\n",
    "class Car(Vehicle):\n",
    "    def start(self):\n",
    "        print(\"Car started\")\n",
    "\n",
    "class Bike(Vehicle):\n",
    "    def start(self):\n",
    "        print(\"Bike started\")"
   ]
  },
  {
   "cell_type": "code",
   "execution_count": 3,
   "id": "82e11685",
   "metadata": {},
   "outputs": [],
   "source": [
    "# Here is an example of Encapsulation:\n",
    "\n",
    "class Bank:\n",
    "    def __init__(self):\n",
    "        self.__balance = 0\n",
    "\n",
    "    def deposit(self, amount):\n",
    "        self.__balance += amount\n",
    "\n",
    "    def withdraw(self, amount):\n",
    "        if self.__balance >= amount:\n",
    "            self.__balance -= amount\n",
    "        else:\n",
    "            print(\"Insufficient balance\")\n",
    "\n",
    "    def get_balance(self):\n",
    "        return self.__balance"
   ]
  },
  {
   "cell_type": "markdown",
   "id": "b50c59d5",
   "metadata": {},
   "source": [
    "## Q3. What is abc module in python? Why is it used?"
   ]
  },
  {
   "cell_type": "markdown",
   "id": "931bb271",
   "metadata": {},
   "source": [
    "The ABC module in Python provides the infrastructure for defining abstract base classes in Python. It defines abstract classes that can be inherited by other classes.\n",
    "\n",
    "The ABC module in Python is like a special tool that helps me create new things. It’s like a box of building blocks I can use to make new toys. Abstract classes help me create new classes without explaining how they work. I can use the blocks to make my own class by putting them together in different ways.\n",
    "\n"
   ]
  },
  {
   "cell_type": "markdown",
   "id": "d784ab4d",
   "metadata": {},
   "source": [
    "## Q4. How can we achieve data abstraction?"
   ]
  },
  {
   "cell_type": "markdown",
   "id": "2b69db38",
   "metadata": {},
   "source": [
    "Data abstraction is the process of hiding irrelevant or unwanted data from the end user.\n",
    "\n",
    "Python allows data abstraction using classes and objects. I can create a class with attributes and methods. The user can then use the methods to interact with the class without knowing how they are implemented."
   ]
  },
  {
   "cell_type": "markdown",
   "id": "58f57d34",
   "metadata": {},
   "source": [
    "## Q5. Can we create an instance of an abstract class? Explain your answer."
   ]
  },
  {
   "cell_type": "markdown",
   "id": "3d313c9a",
   "metadata": {},
   "source": [
    "I cannot create an abstract class instance in Python directly. However, Python provides a module that allows abstract classes known as the ABC module."
   ]
  },
  {
   "cell_type": "code",
   "execution_count": 4,
   "id": "4113a321",
   "metadata": {},
   "outputs": [],
   "source": [
    "from abc import ABC\n",
    "\n",
    "class A(ABC):\n",
    "    pass"
   ]
  },
  {
   "cell_type": "markdown",
   "id": "c11e6438",
   "metadata": {},
   "source": [
    "In this example, I created an abstract class called A. Then I imported the ABC class from the abc module and used it as a base class for my A class. I cannot create an instance of this class directly. Instead, I must create a subclass that implements all the abstract methods defined in abstract class A."
   ]
  },
  {
   "cell_type": "code",
   "execution_count": null,
   "id": "d4b04efc",
   "metadata": {},
   "outputs": [],
   "source": []
  }
 ],
 "metadata": {
  "kernelspec": {
   "display_name": "Python 3 (ipykernel)",
   "language": "python",
   "name": "python3"
  },
  "language_info": {
   "codemirror_mode": {
    "name": "ipython",
    "version": 3
   },
   "file_extension": ".py",
   "mimetype": "text/x-python",
   "name": "python",
   "nbconvert_exporter": "python",
   "pygments_lexer": "ipython3",
   "version": "3.11.3"
  }
 },
 "nbformat": 4,
 "nbformat_minor": 5
}
