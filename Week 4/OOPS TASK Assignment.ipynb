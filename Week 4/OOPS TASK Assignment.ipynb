{
 "cells": [
  {
   "cell_type": "markdown",
   "id": "f3b7faee",
   "metadata": {},
   "source": [
    "## Q1 Create a vehicle class with an init method having instance variables as name_of_vehicle, max_speed and average_of_vehicle."
   ]
  },
  {
   "cell_type": "code",
   "execution_count": 4,
   "id": "d53b26fe",
   "metadata": {},
   "outputs": [],
   "source": [
    "class vehical:\n",
    "    \n",
    "    def __init__(self,name_of_vehicle,max_speed,average_of_vehicle):\n",
    "        self.vehical = name_of_vehicle\n",
    "        self.speed = max_speed\n",
    "        self.average = average_of_vehicle"
   ]
  },
  {
   "cell_type": "code",
   "execution_count": 5,
   "id": "1bfd4b3b",
   "metadata": {},
   "outputs": [],
   "source": [
    "parth = vehical(\"ford\",100,150)"
   ]
  },
  {
   "cell_type": "code",
   "execution_count": 6,
   "id": "bf72d32f",
   "metadata": {},
   "outputs": [
    {
     "data": {
      "text/plain": [
       "'ford'"
      ]
     },
     "execution_count": 6,
     "metadata": {},
     "output_type": "execute_result"
    }
   ],
   "source": [
    "parth.vehical"
   ]
  },
  {
   "cell_type": "code",
   "execution_count": 7,
   "id": "ba82ea84",
   "metadata": {},
   "outputs": [
    {
     "data": {
      "text/plain": [
       "100"
      ]
     },
     "execution_count": 7,
     "metadata": {},
     "output_type": "execute_result"
    }
   ],
   "source": [
    "parth.speed"
   ]
  },
  {
   "cell_type": "code",
   "execution_count": 8,
   "id": "124dd3fd",
   "metadata": {},
   "outputs": [
    {
     "data": {
      "text/plain": [
       "150"
      ]
     },
     "execution_count": 8,
     "metadata": {},
     "output_type": "execute_result"
    }
   ],
   "source": [
    "parth.average"
   ]
  },
  {
   "cell_type": "markdown",
   "id": "8d9dadbd",
   "metadata": {},
   "source": [
    "## Q2.  Create a child class car from the vehicle class created in Que 1, which will inherit the vehicle class. Create a method named seating_capacity which takes capacity as an argument and returns the name of the vehicle and its seating capacity."
   ]
  },
  {
   "cell_type": "code",
   "execution_count": 9,
   "id": "0af8d8b8",
   "metadata": {},
   "outputs": [],
   "source": [
    "class car(vehical):\n",
    "    \n",
    "    def seating_capacity(self, capacity):\n",
    "        return print(f\"{ self.vehical} has seating capacity of {capacity}\")"
   ]
  },
  {
   "cell_type": "markdown",
   "id": "02583e64",
   "metadata": {},
   "source": [
    "## Q3. What is multiple inheritance? Write a python code to demonstrate multiple inheritance."
   ]
  },
  {
   "cell_type": "markdown",
   "id": "627a8da5",
   "metadata": {},
   "source": [
    "MULTIPLE INHERITANCE:\n",
    "\n",
    "When a class can be derived from more than one base class this type of inheritance is called multiple inheritances. In multiple inheritances, all the features of the base classes are inherited into the derived class. "
   ]
  },
  {
   "cell_type": "code",
   "execution_count": 10,
   "id": "febd862b",
   "metadata": {},
   "outputs": [
    {
     "name": "stdout",
     "output_type": "stream",
     "text": [
      "Father : RAM\n",
      "Mother : SITA\n"
     ]
    }
   ],
   "source": [
    "# Base class1\n",
    "class Mother:\n",
    "    mothername = \"\"\n",
    " \n",
    "    def mother(self):\n",
    "        print(self.mothername)\n",
    " \n",
    "# Base class2\n",
    " \n",
    "class Father:\n",
    "    fathername = \"\"\n",
    " \n",
    "    def father(self):\n",
    "        print(self.fathername)\n",
    " \n",
    "# Derived class\n",
    " \n",
    "class Son(Mother, Father):\n",
    "    def parents(self):\n",
    "        print(\"Father :\", self.fathername)\n",
    "        print(\"Mother :\", self.mothername)\n",
    " \n",
    " \n",
    "# Driver's code\n",
    "s1 = Son()\n",
    "s1.fathername = \"RAM\"\n",
    "s1.mothername = \"SITA\"\n",
    "s1.parents()"
   ]
  },
  {
   "cell_type": "markdown",
   "id": "36e4c5fb",
   "metadata": {},
   "source": [
    "## Q4. What are getter and setter in python? Create a class and create a getter and a setter method in this class"
   ]
  },
  {
   "cell_type": "markdown",
   "id": "57bc5b33",
   "metadata": {},
   "source": [
    "In Python getters and setters are used to add validation logic around getting and setting a value. They are also used to avoid direct access to a class field like private variables cannot be accessed directly or modified by an external user."
   ]
  },
  {
   "cell_type": "code",
   "execution_count": 36,
   "id": "e40b17fc",
   "metadata": {},
   "outputs": [],
   "source": [
    "class pwskills:\n",
    "    \n",
    "    def __init__(self,course_price):\n",
    "        self.__course = course_price\n",
    "        \n",
    "    @property\n",
    "    def course_price_access(self):\n",
    "        return self.__course\n",
    "    \n",
    "    @course_price_access.setter\n",
    "    def course_price_set(self,price):\n",
    "        self.__course =price"
   ]
  },
  {
   "cell_type": "code",
   "execution_count": 37,
   "id": "94e2aa43",
   "metadata": {},
   "outputs": [],
   "source": [
    "pw = pwskills(500)"
   ]
  },
  {
   "cell_type": "code",
   "execution_count": 38,
   "id": "49a27823",
   "metadata": {},
   "outputs": [
    {
     "data": {
      "text/plain": [
       "500"
      ]
     },
     "execution_count": 38,
     "metadata": {},
     "output_type": "execute_result"
    }
   ],
   "source": [
    "pw._pwskills__course ## access without getter"
   ]
  },
  {
   "cell_type": "code",
   "execution_count": 39,
   "id": "5d5c6ea1",
   "metadata": {},
   "outputs": [
    {
     "data": {
      "text/plain": [
       "500"
      ]
     },
     "execution_count": 39,
     "metadata": {},
     "output_type": "execute_result"
    }
   ],
   "source": [
    "pw.course_price_access  ## access with getter\n"
   ]
  },
  {
   "cell_type": "code",
   "execution_count": 40,
   "id": "9acd2599",
   "metadata": {},
   "outputs": [],
   "source": [
    "pw.course_price_set = 3500   ## modify with use of setter"
   ]
  },
  {
   "cell_type": "code",
   "execution_count": 41,
   "id": "6bc79801",
   "metadata": {},
   "outputs": [
    {
     "data": {
      "text/plain": [
       "3500"
      ]
     },
     "execution_count": 41,
     "metadata": {},
     "output_type": "execute_result"
    }
   ],
   "source": [
    "pw.course_price_access"
   ]
  },
  {
   "cell_type": "markdown",
   "id": "a21fa285",
   "metadata": {},
   "source": [
    "## Q5.What is method overriding in python? Write a python code to demonstrate method overriding."
   ]
  },
  {
   "cell_type": "markdown",
   "id": "4f79342a",
   "metadata": {},
   "source": [
    "Method overriding in Python is a concept of object-oriented programming (OOP) that enables a child class to implement a method that has already been defined in a parent class."
   ]
  },
  {
   "cell_type": "code",
   "execution_count": 42,
   "id": "0ac9a702",
   "metadata": {},
   "outputs": [
    {
     "name": "stdout",
     "output_type": "stream",
     "text": [
      "I am an animal\n",
      "Woof!\n"
     ]
    }
   ],
   "source": [
    "class Animal:\n",
    "\n",
    "    def speak(self):\n",
    "        print(\"I am an animal\")\n",
    "\n",
    "class Dog(Animal):\n",
    "\n",
    "    def speak(self):\n",
    "        print(\"Woof!\")\n",
    "\n",
    "animal = Animal()\n",
    "animal.speak()\n",
    "\n",
    "dog = Dog()\n",
    "dog.speak()"
   ]
  },
  {
   "cell_type": "code",
   "execution_count": null,
   "id": "edd026c6",
   "metadata": {},
   "outputs": [],
   "source": []
  }
 ],
 "metadata": {
  "kernelspec": {
   "display_name": "Python 3 (ipykernel)",
   "language": "python",
   "name": "python3"
  },
  "language_info": {
   "codemirror_mode": {
    "name": "ipython",
    "version": 3
   },
   "file_extension": ".py",
   "mimetype": "text/x-python",
   "name": "python",
   "nbconvert_exporter": "python",
   "pygments_lexer": "ipython3",
   "version": "3.11.3"
  }
 },
 "nbformat": 4,
 "nbformat_minor": 5
}
