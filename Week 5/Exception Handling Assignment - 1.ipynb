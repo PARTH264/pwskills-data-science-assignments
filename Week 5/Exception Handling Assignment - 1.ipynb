{
 "cells": [
  {
   "cell_type": "markdown",
   "id": "ce188dd6",
   "metadata": {},
   "source": [
    "## 1) What is Exception in Python? Write a difference between Exception and Syntax Error?"
   ]
  },
  {
   "cell_type": "markdown",
   "id": "d2533f11",
   "metadata": {},
   "source": [
    "In Python, an exception is an event that occurs during the execution of a program that disrupts the normal flow of the program's instructions. Exceptions are used to handle errors and other exceptional conditions that can arise while a program is running.\n",
    "\n",
    "A syntax error, on the other hand, is a type of error that occurs when the code written in the program violates the rules of the Python syntax. Syntax errors are detected by the Python interpreter before the code is executed, and they prevent the program from running.\n",
    "\n",
    "The main difference between an exception and a syntax error is that exceptions occur at runtime, while syntax errors occur at compile time. Additionally, syntax errors are usually easier to detect and fix because they prevent the code from being executed, whereas exceptions can be more difficult to debug because they occur only when the code is running.\n",
    "\n",
    "For example, trying to divide a number by zero will raise an exception (ZeroDivisionError), whereas forgetting to put quotes around a string in a print statement would result in a syntax error."
   ]
  },
  {
   "cell_type": "markdown",
   "id": "c28ea6fd",
   "metadata": {},
   "source": [
    "## 2) What happens if an exception is not handled? Explain with an example.\n"
   ]
  },
  {
   "cell_type": "markdown",
   "id": "cfba2a0d",
   "metadata": {},
   "source": [
    "If an exception is not handled in a Python program, the program will terminate abruptly and an error message will be displayed. The error message indicates what type of exception was raised and where it occurred in the code.\n",
    "\n",
    "For example, consider the following code:\n"
   ]
  },
  {
   "cell_type": "code",
   "execution_count": 1,
   "id": "44d51a64",
   "metadata": {},
   "outputs": [
    {
     "ename": "ZeroDivisionError",
     "evalue": "division by zero",
     "output_type": "error",
     "traceback": [
      "\u001b[1;31m---------------------------------------------------------------------------\u001b[0m",
      "\u001b[1;31mZeroDivisionError\u001b[0m                         Traceback (most recent call last)",
      "Cell \u001b[1;32mIn[1], line 7\u001b[0m\n\u001b[0;32m      4\u001b[0m x\u001b[38;5;241m=\u001b[39m\u001b[38;5;241m10\u001b[39m\n\u001b[0;32m      5\u001b[0m y\u001b[38;5;241m=\u001b[39m\u001b[38;5;241m0\u001b[39m\n\u001b[1;32m----> 7\u001b[0m result \u001b[38;5;241m=\u001b[39m \u001b[43mdivide\u001b[49m\u001b[43m(\u001b[49m\u001b[43mx\u001b[49m\u001b[43m,\u001b[49m\u001b[43m \u001b[49m\u001b[43my\u001b[49m\u001b[43m)\u001b[49m\n\u001b[0;32m      8\u001b[0m \u001b[38;5;28mprint\u001b[39m(result)\n",
      "Cell \u001b[1;32mIn[1], line 2\u001b[0m, in \u001b[0;36mdivide\u001b[1;34m(x, y)\u001b[0m\n\u001b[0;32m      1\u001b[0m \u001b[38;5;28;01mdef\u001b[39;00m \u001b[38;5;21mdivide\u001b[39m(x,y):\n\u001b[1;32m----> 2\u001b[0m     \u001b[38;5;28;01mreturn\u001b[39;00m \u001b[43mx\u001b[49m\u001b[43m \u001b[49m\u001b[38;5;241;43m/\u001b[39;49m\u001b[43m \u001b[49m\u001b[43my\u001b[49m\n",
      "\u001b[1;31mZeroDivisionError\u001b[0m: division by zero"
     ]
    }
   ],
   "source": [
    "def divide(x,y):\n",
    "    return x / y\n",
    "\n",
    "x=10\n",
    "y=0\n",
    "\n",
    "result = divide(x, y)\n",
    "print(result)"
   ]
  },
  {
   "cell_type": "markdown",
   "id": "91663bc6",
   "metadata": {},
   "source": [
    "In this code, we are trying to divide x by y, which will result in a ZeroDivisionError exception because dividing by zero is not allowed in mathematics. If this exception is not handled, the program will terminate with the above error message\n",
    "\n",
    "This error message provides information about the type of exception (ZeroDivisionError) and the location in the code where the exception was raised (line 2 of the divide function). This information can be useful for debugging the program and fixing the problem.\n",
    "\n",
    "It is generally a good practice to handle exceptions in your code so that the program can continue running even if an error occurs, instead of abruptly terminating. You can handle exceptions using a try-except block, which allows you to catch specific exceptions and perform specific actions in response to those exceptions."
   ]
  },
  {
   "cell_type": "markdown",
   "id": "f74a37d8",
   "metadata": {},
   "source": [
    "## 3) Which Python statements are used to catch and handle exceptions? Explain with an example."
   ]
  },
  {
   "cell_type": "markdown",
   "id": "a0f20b93",
   "metadata": {},
   "source": [
    "The try and except statements in Python are used to catch and handle exceptions. The try statement is used to define a block of code that you want to monitor for exceptions, and the except statement is used to define the actions to take in response to exceptions that are raised in the try block.\n",
    "\n",
    "Here's an example that demonstrates how the try and except statements can be used to catch and handle exceptions:"
   ]
  },
  {
   "cell_type": "code",
   "execution_count": 3,
   "id": "ee31a0ac",
   "metadata": {},
   "outputs": [
    {
     "name": "stdout",
     "output_type": "stream",
     "text": [
      "division by zero\n"
     ]
    }
   ],
   "source": [
    "try:\n",
    "    #code that might raise an exception\n",
    "    result = 10 / 0\n",
    "except ZeroDivisionError as e:\n",
    "    #code that will be exceuted if the exception is raised\n",
    "    print(e)\n",
    "else:\n",
    "    #code that will be excuted if no exceptiom was raised \n",
    "    print(result)\n",
    "    \n",
    "    "
   ]
  },
  {
   "cell_type": "markdown",
   "id": "6a1b2e3a",
   "metadata": {},
   "source": [
    "In this example, the code in the try block attempts to divide 10 by 0, which will result in a ZeroDivisionError exception. The except statement catches this exception and prints an error message. The else statement provides a block of code that will be executed if no exception was raised in the try block. In this case, the else block will not be executed because an exception was raised in the try block.\n",
    "\n",
    "You can also specify multiple except statements to handle different types of exceptions in different ways. For example:"
   ]
  },
  {
   "cell_type": "code",
   "execution_count": 4,
   "id": "e51b0409",
   "metadata": {},
   "outputs": [
    {
     "name": "stdout",
     "output_type": "stream",
     "text": [
      "Error: Invalid input. Please enter a number.\n"
     ]
    }
   ],
   "source": [
    "try:\n",
    "    # code that might raise an exception\n",
    "    x = int(\"abc\")\n",
    "except ValueError as e:\n",
    "    # code that will be executed if a ValueError is raised\n",
    "    print(\"Error: Invalid input. Please enter a number.\")\n",
    "except ZeroDivisionError as e:\n",
    "    # code that will be executed if a ZeroDivisionError is raised\n",
    "    print(\"Error: Cannot divide by zero.\")\n",
    "else:\n",
    "    # code that will be executed if no exception was raised\n",
    "    print(x)"
   ]
  },
  {
   "cell_type": "markdown",
   "id": "79614286",
   "metadata": {},
   "source": [
    "In this example, the code in the try block attempts to convert a string to an integer, which will result in a ValueError exception. The first except statement catches this exception and prints an error message. The second except statement catches a ZeroDivisionError exception, but this exception will not be raised in this example. The else statement provides a block of code that will be executed if no exception was raised in the try block."
   ]
  },
  {
   "cell_type": "markdown",
   "id": "31cf0f50",
   "metadata": {},
   "source": [
    "## 4) Explain with an example\n",
    "## a)try and else\n",
    "## b)finally\n",
    "## c)raise"
   ]
  },
  {
   "cell_type": "markdown",
   "id": "c6f74b0f",
   "metadata": {},
   "source": [
    "Here's an example that demonstrates the try and else statements:"
   ]
  },
  {
   "cell_type": "code",
   "execution_count": 5,
   "id": "35b8b37f",
   "metadata": {},
   "outputs": [
    {
     "name": "stdout",
     "output_type": "stream",
     "text": [
      "5.0\n"
     ]
    }
   ],
   "source": [
    "try:\n",
    "    # code that might raise an exception\n",
    "    result = 10 / 2\n",
    "except ZeroDivisionError as e:\n",
    "    # code that will be executed if an exception is raised\n",
    "    print(\"Error: Cannot divide by zero.\")\n",
    "else:\n",
    "    # code that will be executed if no exception was raised\n",
    "    print(result)\n"
   ]
  },
  {
   "cell_type": "markdown",
   "id": "05d43daa",
   "metadata": {},
   "source": [
    "In this example, the code in the try block divides 10 by 2. Since this operation does not result in an exception, the code in the else block will be executed and will print the result (5).\n",
    "\n",
    "Here's an example that demonstrates the finally statement:"
   ]
  },
  {
   "cell_type": "code",
   "execution_count": 6,
   "id": "66996c64",
   "metadata": {},
   "outputs": [
    {
     "name": "stdout",
     "output_type": "stream",
     "text": [
      "Error: Cannot divide by zero.\n",
      "Finally block executed.\n"
     ]
    }
   ],
   "source": [
    "try:\n",
    "    # code that might raise an exception\n",
    "    result = 10 / 0\n",
    "except ZeroDivisionError as e:\n",
    "    # code that will be executed if an exception is raised\n",
    "    print(\"Error: Cannot divide by zero.\")\n",
    "finally:\n",
    "    # code that will always be executed, regardless of whether an exception was raised or not\n",
    "    print(\"Finally block executed.\")"
   ]
  },
  {
   "cell_type": "markdown",
   "id": "cc3949ac",
   "metadata": {},
   "source": [
    "In this example, the code in the try block attempts to divide 10 by 0, which will result in a ZeroDivisionError exception. The except statement catches this exception and prints an error message. The finally block provides code that will always be executed, regardless of whether an exception was raised or not. In this case, the finally block will print a message indicating that it was executed.\n",
    "\n",
    "Here's an example that demonstrates the raise statement:"
   ]
  },
  {
   "cell_type": "code",
   "execution_count": 7,
   "id": "86b4ccf0",
   "metadata": {},
   "outputs": [
    {
     "name": "stdout",
     "output_type": "stream",
     "text": [
      "Error: Cannot divide by zero.\n"
     ]
    }
   ],
   "source": [
    "def divide(a, b):\n",
    "    if b == 0:\n",
    "        raise ValueError(\"Error: Cannot divide by zero.\")\n",
    "    return a / b\n",
    "\n",
    "try:\n",
    "    result = divide(10, 0)\n",
    "except ValueError as e:\n",
    "    print(e)\n"
   ]
  },
  {
   "cell_type": "markdown",
   "id": "8d34abc9",
   "metadata": {},
   "source": [
    "In this example, the divide function raises a ValueError exception if the second argument is 0. The try-except block calls the divide function and catches the ValueError exception that is raised. The except block prints the error message that was included in the raise statement. This way, the function can provide a more descriptive error message and handle the error in a controlled manner, instead of abruptly terminating the program."
   ]
  },
  {
   "cell_type": "markdown",
   "id": "e67043dc",
   "metadata": {},
   "source": [
    "## 5) What are custom exceptions in Python? Why do we need Custom Exceptions? Explain with an example"
   ]
  },
  {
   "cell_type": "markdown",
   "id": "477d1acc",
   "metadata": {},
   "source": [
    "In Python, you can create custom exceptions by defining a new class that inherits from the Exception class. Custom exceptions allow you to define specific exception types that can be raised and caught in your code.\n",
    "\n",
    "You need custom exceptions when you want to provide a more descriptive error message or want to handle specific error conditions in a different way. For example, if you're writing a function that performs a specific operation, you can define a custom exception for that function. If the operation fails, you can raise the custom exception and provide a detailed error message.\n",
    "\n",
    "Here's an example of a custom exception in Python:"
   ]
  },
  {
   "cell_type": "code",
   "execution_count": 8,
   "id": "bc278610",
   "metadata": {},
   "outputs": [
    {
     "name": "stdout",
     "output_type": "stream",
     "text": [
      "Error: Cannot divide by zero.\n"
     ]
    }
   ],
   "source": [
    "class InvalidInputError(Exception):\n",
    "    def __init__(self, message):\n",
    "        self.message = message\n",
    "\n",
    "def divide(a, b):\n",
    "    if b == 0:\n",
    "        raise InvalidInputError(\"Error: Cannot divide by zero.\")\n",
    "    return a / b\n",
    "\n",
    "try:\n",
    "    result = divide(10, 0)\n",
    "except InvalidInputError as e:\n",
    "    print(e.message)\n"
   ]
  },
  {
   "cell_type": "markdown",
   "id": "634a102e",
   "metadata": {},
   "source": [
    "In this example, we define a custom exception InvalidInputError that inherits from the Exception class. The custom exception takes a message as an argument, which can be accessed using the message attribute. The divide function raises the InvalidInputError exception if the second argument is 0, providing a descriptive error message. The try-except block calls the divide function and catches the InvalidInputError exception. The except block prints the error message from the custom exception."
   ]
  },
  {
   "cell_type": "markdown",
   "id": "0f01bb77",
   "metadata": {},
   "source": [
    "## 6) Create a Custom Exception class. Use this class to handle an exception"
   ]
  },
  {
   "cell_type": "code",
   "execution_count": 9,
   "id": "25bc3222",
   "metadata": {},
   "outputs": [
    {
     "name": "stdout",
     "output_type": "stream",
     "text": [
      "Error: Cannot divide by zero.\n"
     ]
    }
   ],
   "source": [
    "class CustomException(Exception):\n",
    "    def __init__(self, message):\n",
    "        self.message = message\n",
    "\n",
    "def divide(a, b):\n",
    "    if b == 0:\n",
    "        raise CustomException(\"Error: Cannot divide by zero.\")\n",
    "    return a / b\n",
    "\n",
    "try:\n",
    "    result = divide(10, 0)\n",
    "except CustomException as e:\n",
    "    print(e.message)\n"
   ]
  },
  {
   "cell_type": "markdown",
   "id": "9b2f2242",
   "metadata": {},
   "source": [
    "In this example, we define a custom exception class CustomException that inherits from the built-in Exception class. The custom exception takes a message as an argument, which can be accessed using the message attribute. The divide function raises the CustomException exception if the second argument is 0, providing a descriptive error message. The try-except block calls the divide function and catches the CustomException exception. The except block prints the error message from the custom exception."
   ]
  }
 ],
 "metadata": {
  "kernelspec": {
   "display_name": "Python 3 (ipykernel)",
   "language": "python",
   "name": "python3"
  },
  "language_info": {
   "codemirror_mode": {
    "name": "ipython",
    "version": 3
   },
   "file_extension": ".py",
   "mimetype": "text/x-python",
   "name": "python",
   "nbconvert_exporter": "python",
   "pygments_lexer": "ipython3",
   "version": "3.11.3"
  }
 },
 "nbformat": 4,
 "nbformat_minor": 5
}
