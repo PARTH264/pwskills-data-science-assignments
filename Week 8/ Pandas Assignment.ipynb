{
 "cells": [
  {
   "cell_type": "code",
   "execution_count": 2,
   "id": "d155c608",
   "metadata": {},
   "outputs": [],
   "source": [
    "# Consider following code to answer further questions:\n",
    "import pandas as pd\n",
    "course_name = ['Data Science', 'Machine Learning', 'Big Data', 'Data Engineer']\n",
    "duration = [2,3,6,4]\n",
    "df = pd.DataFrame(data = {'course_name' : course_name, 'duration' : duration})"
   ]
  },
  {
   "cell_type": "markdown",
   "id": "1d440c51",
   "metadata": {},
   "source": [
    "# Q1. Write a code to print the data present in the second row of the dataframe, df."
   ]
  },
  {
   "cell_type": "code",
   "execution_count": 8,
   "id": "795991ee",
   "metadata": {},
   "outputs": [
    {
     "data": {
      "text/plain": [
       "course_name    Machine Learning\n",
       "duration                      3\n",
       "Name: 1, dtype: object"
      ]
     },
     "execution_count": 8,
     "metadata": {},
     "output_type": "execute_result"
    }
   ],
   "source": [
    "df[1:2]\n",
    "# or\n",
    "df.iloc[1]"
   ]
  },
  {
   "cell_type": "markdown",
   "id": "1e4124c3",
   "metadata": {},
   "source": [
    "# Q2. What is the difference between the functions loc and iloc in pandas.DataFrame?"
   ]
  },
  {
   "cell_type": "markdown",
   "id": "ee0909c0",
   "metadata": {},
   "source": [
    "## Answer : \n",
    "\n",
    "### iloc and loc are both methods used to select data from a pandas dataframe, but they use different indexing methods.\n",
    "\n",
    "### 1. iloc uses integer-based indexing and is used to select rows and columns by their integer positions. This means that you can use numerical indices to slice a dataframe.\n",
    "\n",
    "### For example if i want to show first 2 row and first column using iloc for given df "
   ]
  },
  {
   "cell_type": "code",
   "execution_count": 9,
   "id": "e234f25c",
   "metadata": {},
   "outputs": [
    {
     "data": {
      "text/plain": [
       "0        Data Science\n",
       "1    Machine Learning\n",
       "Name: course_name, dtype: object"
      ]
     },
     "execution_count": 9,
     "metadata": {},
     "output_type": "execute_result"
    }
   ],
   "source": [
    "df.iloc[0:2,0]"
   ]
  },
  {
   "cell_type": "markdown",
   "id": "29fc530d",
   "metadata": {},
   "source": [
    "### 2. loc, on the other hand, uses label-based indexing and is used to select rows and columns by their labels or names. This means that you can use strings to slice a dataframe.\n",
    "\n",
    "### Below is example using Loc"
   ]
  },
  {
   "cell_type": "code",
   "execution_count": 10,
   "id": "a316cf6f",
   "metadata": {},
   "outputs": [
    {
     "data": {
      "text/plain": [
       "0        Data Science\n",
       "1    Machine Learning\n",
       "Name: course_name, dtype: object"
      ]
     },
     "execution_count": 10,
     "metadata": {},
     "output_type": "execute_result"
    }
   ],
   "source": [
    "df.loc[0:1,'course_name']"
   ]
  },
  {
   "cell_type": "markdown",
   "id": "eece9a0c",
   "metadata": {},
   "source": [
    "# Question 3: Reindex the given dataframe using a variable, reindex = [3,0,1,2] and store it in the variable, new_df then find the output for both new_df.loc[2] and new_df.iloc[2].\n",
    "\n",
    "## Did you observe any difference in both the outputs? If so then explain it.\n",
    "---"
   ]
  },
  {
   "cell_type": "code",
   "execution_count": 15,
   "id": "ecbdd2c4",
   "metadata": {},
   "outputs": [
    {
     "data": {
      "text/html": [
       "<div>\n",
       "<style scoped>\n",
       "    .dataframe tbody tr th:only-of-type {\n",
       "        vertical-align: middle;\n",
       "    }\n",
       "\n",
       "    .dataframe tbody tr th {\n",
       "        vertical-align: top;\n",
       "    }\n",
       "\n",
       "    .dataframe thead th {\n",
       "        text-align: right;\n",
       "    }\n",
       "</style>\n",
       "<table border=\"1\" class=\"dataframe\">\n",
       "  <thead>\n",
       "    <tr style=\"text-align: right;\">\n",
       "      <th></th>\n",
       "      <th>course_name</th>\n",
       "      <th>duration</th>\n",
       "    </tr>\n",
       "  </thead>\n",
       "  <tbody>\n",
       "    <tr>\n",
       "      <th>3</th>\n",
       "      <td>Data Engineer</td>\n",
       "      <td>4</td>\n",
       "    </tr>\n",
       "    <tr>\n",
       "      <th>0</th>\n",
       "      <td>Data Science</td>\n",
       "      <td>2</td>\n",
       "    </tr>\n",
       "    <tr>\n",
       "      <th>1</th>\n",
       "      <td>Machine Learning</td>\n",
       "      <td>3</td>\n",
       "    </tr>\n",
       "    <tr>\n",
       "      <th>2</th>\n",
       "      <td>Big Data</td>\n",
       "      <td>6</td>\n",
       "    </tr>\n",
       "  </tbody>\n",
       "</table>\n",
       "</div>"
      ],
      "text/plain": [
       "        course_name  duration\n",
       "3     Data Engineer         4\n",
       "0      Data Science         2\n",
       "1  Machine Learning         3\n",
       "2          Big Data         6"
      ]
     },
     "execution_count": 15,
     "metadata": {},
     "output_type": "execute_result"
    }
   ],
   "source": [
    "# Creating reindex variable\n",
    "reindex = [3,0,1,2]\n",
    "\n",
    "# Reindexing the dateframe using \n",
    "new_df = df.reindex(reindex)\n",
    "\n",
    "# Showing new_df\n",
    "new_df"
   ]
  },
  {
   "cell_type": "code",
   "execution_count": 16,
   "id": "447c2a35",
   "metadata": {},
   "outputs": [
    {
     "data": {
      "text/plain": [
       "course_name    Big Data\n",
       "duration              6\n",
       "Name: 2, dtype: object"
      ]
     },
     "execution_count": 16,
     "metadata": {},
     "output_type": "execute_result"
    }
   ],
   "source": [
    "# Output of new_df.loc[2]\n",
    "new_df.loc[2]"
   ]
  },
  {
   "cell_type": "code",
   "execution_count": 17,
   "id": "3673c060",
   "metadata": {},
   "outputs": [
    {
     "data": {
      "text/plain": [
       "course_name    Machine Learning\n",
       "duration                      3\n",
       "Name: 1, dtype: object"
      ]
     },
     "execution_count": 17,
     "metadata": {},
     "output_type": "execute_result"
    }
   ],
   "source": [
    "# Output of new_df.iloc[2]\n",
    "new_df.iloc[2]"
   ]
  },
  {
   "cell_type": "markdown",
   "id": "6d814d76",
   "metadata": {},
   "source": [
    "### Yes There is difference observed in outputs It works as following"
   ]
  },
  {
   "cell_type": "markdown",
   "id": "65c5aa36",
   "metadata": {},
   "source": [
    "### 1. For new_df.loc[2] function will search for index which is labelled as 2\n",
    "### 1. For new_df.loc[2] function will search for index which is labelled as 2\n"
   ]
  },
  {
   "cell_type": "markdown",
   "id": "a84c2124",
   "metadata": {},
   "source": [
    "# Q4. Write a code to find the following statistical measurements for the above dataframe df1:\n",
    "    ( i) mean of each and every column present in the dataframe.\n",
    "    (ii) standard deviation of column, ‘column_2’"
   ]
  },
  {
   "cell_type": "code",
   "execution_count": 19,
   "id": "ef6f1426",
   "metadata": {},
   "outputs": [],
   "source": [
    "import pandas as pd\n",
    "import numpy as np\n",
    "columns = ['column_1', 'column_2', 'column_3', 'column_4', 'column_5', 'column_6']\n",
    "indices = [1,2,3,4,5,6]\n",
    "#Creating a dataframe:\n",
    "df1 = pd.DataFrame(np.random.rand(6,6), columns = columns, index = indices)"
   ]
  },
  {
   "cell_type": "code",
   "execution_count": 20,
   "id": "d9a86ca4",
   "metadata": {},
   "outputs": [
    {
     "data": {
      "text/html": [
       "<div>\n",
       "<style scoped>\n",
       "    .dataframe tbody tr th:only-of-type {\n",
       "        vertical-align: middle;\n",
       "    }\n",
       "\n",
       "    .dataframe tbody tr th {\n",
       "        vertical-align: top;\n",
       "    }\n",
       "\n",
       "    .dataframe thead th {\n",
       "        text-align: right;\n",
       "    }\n",
       "</style>\n",
       "<table border=\"1\" class=\"dataframe\">\n",
       "  <thead>\n",
       "    <tr style=\"text-align: right;\">\n",
       "      <th></th>\n",
       "      <th>column_1</th>\n",
       "      <th>column_2</th>\n",
       "      <th>column_3</th>\n",
       "      <th>column_4</th>\n",
       "      <th>column_5</th>\n",
       "      <th>column_6</th>\n",
       "    </tr>\n",
       "  </thead>\n",
       "  <tbody>\n",
       "    <tr>\n",
       "      <th>1</th>\n",
       "      <td>0.798225</td>\n",
       "      <td>0.949195</td>\n",
       "      <td>0.658975</td>\n",
       "      <td>0.248094</td>\n",
       "      <td>0.513787</td>\n",
       "      <td>0.188752</td>\n",
       "    </tr>\n",
       "    <tr>\n",
       "      <th>2</th>\n",
       "      <td>0.563460</td>\n",
       "      <td>0.350120</td>\n",
       "      <td>0.179912</td>\n",
       "      <td>0.377861</td>\n",
       "      <td>0.235335</td>\n",
       "      <td>0.638268</td>\n",
       "    </tr>\n",
       "    <tr>\n",
       "      <th>3</th>\n",
       "      <td>0.624975</td>\n",
       "      <td>0.434003</td>\n",
       "      <td>0.435219</td>\n",
       "      <td>0.808539</td>\n",
       "      <td>0.442686</td>\n",
       "      <td>0.189335</td>\n",
       "    </tr>\n",
       "    <tr>\n",
       "      <th>4</th>\n",
       "      <td>0.603084</td>\n",
       "      <td>0.278925</td>\n",
       "      <td>0.418909</td>\n",
       "      <td>0.607384</td>\n",
       "      <td>0.059729</td>\n",
       "      <td>0.017864</td>\n",
       "    </tr>\n",
       "    <tr>\n",
       "      <th>5</th>\n",
       "      <td>0.639128</td>\n",
       "      <td>0.749507</td>\n",
       "      <td>0.854517</td>\n",
       "      <td>0.148573</td>\n",
       "      <td>0.943362</td>\n",
       "      <td>0.287890</td>\n",
       "    </tr>\n",
       "    <tr>\n",
       "      <th>6</th>\n",
       "      <td>0.896504</td>\n",
       "      <td>0.862125</td>\n",
       "      <td>0.104145</td>\n",
       "      <td>0.110302</td>\n",
       "      <td>0.868013</td>\n",
       "      <td>0.817110</td>\n",
       "    </tr>\n",
       "  </tbody>\n",
       "</table>\n",
       "</div>"
      ],
      "text/plain": [
       "   column_1  column_2  column_3  column_4  column_5  column_6\n",
       "1  0.798225  0.949195  0.658975  0.248094  0.513787  0.188752\n",
       "2  0.563460  0.350120  0.179912  0.377861  0.235335  0.638268\n",
       "3  0.624975  0.434003  0.435219  0.808539  0.442686  0.189335\n",
       "4  0.603084  0.278925  0.418909  0.607384  0.059729  0.017864\n",
       "5  0.639128  0.749507  0.854517  0.148573  0.943362  0.287890\n",
       "6  0.896504  0.862125  0.104145  0.110302  0.868013  0.817110"
      ]
     },
     "execution_count": 20,
     "metadata": {},
     "output_type": "execute_result"
    }
   ],
   "source": [
    "# viewing df1\n",
    "df1"
   ]
  },
  {
   "cell_type": "code",
   "execution_count": 21,
   "id": "36cf3fd1",
   "metadata": {},
   "outputs": [
    {
     "data": {
      "text/plain": [
       "column_1    0.687563\n",
       "column_2    0.603979\n",
       "column_3    0.441946\n",
       "column_4    0.383459\n",
       "column_5    0.510486\n",
       "column_6    0.356537\n",
       "dtype: float64"
      ]
     },
     "execution_count": 21,
     "metadata": {},
     "output_type": "execute_result"
    }
   ],
   "source": [
    "# using mean() function of pandas\n",
    "df1.mean()"
   ]
  },
  {
   "cell_type": "code",
   "execution_count": 22,
   "id": "12c3596b",
   "metadata": {},
   "outputs": [
    {
     "data": {
      "text/plain": [
       "0.28495180883170373"
      ]
     },
     "execution_count": 22,
     "metadata": {},
     "output_type": "execute_result"
    }
   ],
   "source": [
    "# using std() function then seleting column2\n",
    "df1.std()['column_2']"
   ]
  },
  {
   "cell_type": "markdown",
   "id": "3e7cf570",
   "metadata": {},
   "source": [
    "# Q5. Replace the data present in the second row of column, ‘column_2’ by a string variable then find the mean of column, column_2.\n",
    " ### If you are getting errors in executing it then explain why.\n",
    "### [Hint: To replace the data use df1.loc[] and equate this to string data of your choice.]"
   ]
  },
  {
   "cell_type": "code",
   "execution_count": 24,
   "id": "a256efe1",
   "metadata": {},
   "outputs": [
    {
     "data": {
      "text/html": [
       "<div>\n",
       "<style scoped>\n",
       "    .dataframe tbody tr th:only-of-type {\n",
       "        vertical-align: middle;\n",
       "    }\n",
       "\n",
       "    .dataframe tbody tr th {\n",
       "        vertical-align: top;\n",
       "    }\n",
       "\n",
       "    .dataframe thead th {\n",
       "        text-align: right;\n",
       "    }\n",
       "</style>\n",
       "<table border=\"1\" class=\"dataframe\">\n",
       "  <thead>\n",
       "    <tr style=\"text-align: right;\">\n",
       "      <th></th>\n",
       "      <th>column_1</th>\n",
       "      <th>column_2</th>\n",
       "      <th>column_3</th>\n",
       "      <th>column_4</th>\n",
       "      <th>column_5</th>\n",
       "      <th>column_6</th>\n",
       "    </tr>\n",
       "  </thead>\n",
       "  <tbody>\n",
       "    <tr>\n",
       "      <th>1</th>\n",
       "      <td>0.798225</td>\n",
       "      <td>a</td>\n",
       "      <td>0.658975</td>\n",
       "      <td>0.248094</td>\n",
       "      <td>0.513787</td>\n",
       "      <td>0.188752</td>\n",
       "    </tr>\n",
       "    <tr>\n",
       "      <th>2</th>\n",
       "      <td>0.563460</td>\n",
       "      <td>b</td>\n",
       "      <td>0.179912</td>\n",
       "      <td>0.377861</td>\n",
       "      <td>0.235335</td>\n",
       "      <td>0.638268</td>\n",
       "    </tr>\n",
       "    <tr>\n",
       "      <th>3</th>\n",
       "      <td>0.624975</td>\n",
       "      <td>c</td>\n",
       "      <td>0.435219</td>\n",
       "      <td>0.808539</td>\n",
       "      <td>0.442686</td>\n",
       "      <td>0.189335</td>\n",
       "    </tr>\n",
       "    <tr>\n",
       "      <th>4</th>\n",
       "      <td>0.603084</td>\n",
       "      <td>d</td>\n",
       "      <td>0.418909</td>\n",
       "      <td>0.607384</td>\n",
       "      <td>0.059729</td>\n",
       "      <td>0.017864</td>\n",
       "    </tr>\n",
       "    <tr>\n",
       "      <th>5</th>\n",
       "      <td>0.639128</td>\n",
       "      <td>e</td>\n",
       "      <td>0.854517</td>\n",
       "      <td>0.148573</td>\n",
       "      <td>0.943362</td>\n",
       "      <td>0.287890</td>\n",
       "    </tr>\n",
       "    <tr>\n",
       "      <th>6</th>\n",
       "      <td>0.896504</td>\n",
       "      <td>f</td>\n",
       "      <td>0.104145</td>\n",
       "      <td>0.110302</td>\n",
       "      <td>0.868013</td>\n",
       "      <td>0.817110</td>\n",
       "    </tr>\n",
       "  </tbody>\n",
       "</table>\n",
       "</div>"
      ],
      "text/plain": [
       "   column_1 column_2  column_3  column_4  column_5  column_6\n",
       "1  0.798225        a  0.658975  0.248094  0.513787  0.188752\n",
       "2  0.563460        b  0.179912  0.377861  0.235335  0.638268\n",
       "3  0.624975        c  0.435219  0.808539  0.442686  0.189335\n",
       "4  0.603084        d  0.418909  0.607384  0.059729  0.017864\n",
       "5  0.639128        e  0.854517  0.148573  0.943362  0.287890\n",
       "6  0.896504        f  0.104145  0.110302  0.868013  0.817110"
      ]
     },
     "execution_count": 24,
     "metadata": {},
     "output_type": "execute_result"
    }
   ],
   "source": [
    "# Replacing column_2 with string data\n",
    "df1['column_2'] = ['a','b','c','d','e','f']\n",
    "df1"
   ]
  },
  {
   "cell_type": "code",
   "execution_count": 25,
   "id": "d1d84492",
   "metadata": {},
   "outputs": [
    {
     "data": {
      "text/plain": [
       "column_1    float64\n",
       "column_2     object\n",
       "column_3    float64\n",
       "column_4    float64\n",
       "column_5    float64\n",
       "column_6    float64\n",
       "dtype: object"
      ]
     },
     "execution_count": 25,
     "metadata": {},
     "output_type": "execute_result"
    }
   ],
   "source": [
    "df1.dtypes"
   ]
  },
  {
   "cell_type": "code",
   "execution_count": 26,
   "id": "119615ee",
   "metadata": {},
   "outputs": [
    {
     "ename": "TypeError",
     "evalue": "Could not convert abcdef to numeric",
     "output_type": "error",
     "traceback": [
      "\u001b[1;31m---------------------------------------------------------------------------\u001b[0m",
      "\u001b[1;31mValueError\u001b[0m                                Traceback (most recent call last)",
      "File \u001b[1;32m~\\AppData\\Local\\Programs\\Python\\Python311\\Lib\\site-packages\\pandas\\core\\nanops.py:1692\u001b[0m, in \u001b[0;36m_ensure_numeric\u001b[1;34m(x)\u001b[0m\n\u001b[0;32m   1691\u001b[0m \u001b[38;5;28;01mtry\u001b[39;00m:\n\u001b[1;32m-> 1692\u001b[0m     x \u001b[38;5;241m=\u001b[39m \u001b[38;5;28;43mfloat\u001b[39;49m\u001b[43m(\u001b[49m\u001b[43mx\u001b[49m\u001b[43m)\u001b[49m\n\u001b[0;32m   1693\u001b[0m \u001b[38;5;28;01mexcept\u001b[39;00m (\u001b[38;5;167;01mTypeError\u001b[39;00m, \u001b[38;5;167;01mValueError\u001b[39;00m):\n\u001b[0;32m   1694\u001b[0m     \u001b[38;5;66;03m# e.g. \"1+1j\" or \"foo\"\u001b[39;00m\n",
      "\u001b[1;31mValueError\u001b[0m: could not convert string to float: 'abcdef'",
      "\nDuring handling of the above exception, another exception occurred:\n",
      "\u001b[1;31mValueError\u001b[0m                                Traceback (most recent call last)",
      "File \u001b[1;32m~\\AppData\\Local\\Programs\\Python\\Python311\\Lib\\site-packages\\pandas\\core\\nanops.py:1696\u001b[0m, in \u001b[0;36m_ensure_numeric\u001b[1;34m(x)\u001b[0m\n\u001b[0;32m   1695\u001b[0m \u001b[38;5;28;01mtry\u001b[39;00m:\n\u001b[1;32m-> 1696\u001b[0m     x \u001b[38;5;241m=\u001b[39m \u001b[38;5;28;43mcomplex\u001b[39;49m\u001b[43m(\u001b[49m\u001b[43mx\u001b[49m\u001b[43m)\u001b[49m\n\u001b[0;32m   1697\u001b[0m \u001b[38;5;28;01mexcept\u001b[39;00m \u001b[38;5;167;01mValueError\u001b[39;00m \u001b[38;5;28;01mas\u001b[39;00m err:\n\u001b[0;32m   1698\u001b[0m     \u001b[38;5;66;03m# e.g. \"foo\"\u001b[39;00m\n",
      "\u001b[1;31mValueError\u001b[0m: complex() arg is a malformed string",
      "\nThe above exception was the direct cause of the following exception:\n",
      "\u001b[1;31mTypeError\u001b[0m                                 Traceback (most recent call last)",
      "Cell \u001b[1;32mIn[26], line 1\u001b[0m\n\u001b[1;32m----> 1\u001b[0m \u001b[43mdf1\u001b[49m\u001b[43m[\u001b[49m\u001b[38;5;124;43m'\u001b[39;49m\u001b[38;5;124;43mcolumn_2\u001b[39;49m\u001b[38;5;124;43m'\u001b[39;49m\u001b[43m]\u001b[49m\u001b[38;5;241;43m.\u001b[39;49m\u001b[43mmean\u001b[49m\u001b[43m(\u001b[49m\u001b[43m)\u001b[49m\n",
      "File \u001b[1;32m~\\AppData\\Local\\Programs\\Python\\Python311\\Lib\\site-packages\\pandas\\core\\generic.py:11556\u001b[0m, in \u001b[0;36mNDFrame._add_numeric_operations.<locals>.mean\u001b[1;34m(self, axis, skipna, numeric_only, **kwargs)\u001b[0m\n\u001b[0;32m  11539\u001b[0m \u001b[38;5;129m@doc\u001b[39m(\n\u001b[0;32m  11540\u001b[0m     _num_doc,\n\u001b[0;32m  11541\u001b[0m     desc\u001b[38;5;241m=\u001b[39m\u001b[38;5;124m\"\u001b[39m\u001b[38;5;124mReturn the mean of the values over the requested axis.\u001b[39m\u001b[38;5;124m\"\u001b[39m,\n\u001b[1;32m   (...)\u001b[0m\n\u001b[0;32m  11554\u001b[0m     \u001b[38;5;241m*\u001b[39m\u001b[38;5;241m*\u001b[39mkwargs,\n\u001b[0;32m  11555\u001b[0m ):\n\u001b[1;32m> 11556\u001b[0m     \u001b[38;5;28;01mreturn\u001b[39;00m \u001b[43mNDFrame\u001b[49m\u001b[38;5;241;43m.\u001b[39;49m\u001b[43mmean\u001b[49m\u001b[43m(\u001b[49m\u001b[38;5;28;43mself\u001b[39;49m\u001b[43m,\u001b[49m\u001b[43m \u001b[49m\u001b[43maxis\u001b[49m\u001b[43m,\u001b[49m\u001b[43m \u001b[49m\u001b[43mskipna\u001b[49m\u001b[43m,\u001b[49m\u001b[43m \u001b[49m\u001b[43mnumeric_only\u001b[49m\u001b[43m,\u001b[49m\u001b[43m \u001b[49m\u001b[38;5;241;43m*\u001b[39;49m\u001b[38;5;241;43m*\u001b[39;49m\u001b[43mkwargs\u001b[49m\u001b[43m)\u001b[49m\n",
      "File \u001b[1;32m~\\AppData\\Local\\Programs\\Python\\Python311\\Lib\\site-packages\\pandas\\core\\generic.py:11201\u001b[0m, in \u001b[0;36mNDFrame.mean\u001b[1;34m(self, axis, skipna, numeric_only, **kwargs)\u001b[0m\n\u001b[0;32m  11194\u001b[0m \u001b[38;5;28;01mdef\u001b[39;00m \u001b[38;5;21mmean\u001b[39m(\n\u001b[0;32m  11195\u001b[0m     \u001b[38;5;28mself\u001b[39m,\n\u001b[0;32m  11196\u001b[0m     axis: Axis \u001b[38;5;241m|\u001b[39m \u001b[38;5;28;01mNone\u001b[39;00m \u001b[38;5;241m=\u001b[39m \u001b[38;5;241m0\u001b[39m,\n\u001b[1;32m   (...)\u001b[0m\n\u001b[0;32m  11199\u001b[0m     \u001b[38;5;241m*\u001b[39m\u001b[38;5;241m*\u001b[39mkwargs,\n\u001b[0;32m  11200\u001b[0m ) \u001b[38;5;241m-\u001b[39m\u001b[38;5;241m>\u001b[39m Series \u001b[38;5;241m|\u001b[39m \u001b[38;5;28mfloat\u001b[39m:\n\u001b[1;32m> 11201\u001b[0m     \u001b[38;5;28;01mreturn\u001b[39;00m \u001b[38;5;28;43mself\u001b[39;49m\u001b[38;5;241;43m.\u001b[39;49m\u001b[43m_stat_function\u001b[49m\u001b[43m(\u001b[49m\n\u001b[0;32m  11202\u001b[0m \u001b[43m        \u001b[49m\u001b[38;5;124;43m\"\u001b[39;49m\u001b[38;5;124;43mmean\u001b[39;49m\u001b[38;5;124;43m\"\u001b[39;49m\u001b[43m,\u001b[49m\u001b[43m \u001b[49m\u001b[43mnanops\u001b[49m\u001b[38;5;241;43m.\u001b[39;49m\u001b[43mnanmean\u001b[49m\u001b[43m,\u001b[49m\u001b[43m \u001b[49m\u001b[43maxis\u001b[49m\u001b[43m,\u001b[49m\u001b[43m \u001b[49m\u001b[43mskipna\u001b[49m\u001b[43m,\u001b[49m\u001b[43m \u001b[49m\u001b[43mnumeric_only\u001b[49m\u001b[43m,\u001b[49m\u001b[43m \u001b[49m\u001b[38;5;241;43m*\u001b[39;49m\u001b[38;5;241;43m*\u001b[39;49m\u001b[43mkwargs\u001b[49m\n\u001b[0;32m  11203\u001b[0m \u001b[43m    \u001b[49m\u001b[43m)\u001b[49m\n",
      "File \u001b[1;32m~\\AppData\\Local\\Programs\\Python\\Python311\\Lib\\site-packages\\pandas\\core\\generic.py:11158\u001b[0m, in \u001b[0;36mNDFrame._stat_function\u001b[1;34m(self, name, func, axis, skipna, numeric_only, **kwargs)\u001b[0m\n\u001b[0;32m  11154\u001b[0m     nv\u001b[38;5;241m.\u001b[39mvalidate_stat_func((), kwargs, fname\u001b[38;5;241m=\u001b[39mname)\n\u001b[0;32m  11156\u001b[0m validate_bool_kwarg(skipna, \u001b[38;5;124m\"\u001b[39m\u001b[38;5;124mskipna\u001b[39m\u001b[38;5;124m\"\u001b[39m, none_allowed\u001b[38;5;241m=\u001b[39m\u001b[38;5;28;01mFalse\u001b[39;00m)\n\u001b[1;32m> 11158\u001b[0m \u001b[38;5;28;01mreturn\u001b[39;00m \u001b[38;5;28;43mself\u001b[39;49m\u001b[38;5;241;43m.\u001b[39;49m\u001b[43m_reduce\u001b[49m\u001b[43m(\u001b[49m\n\u001b[0;32m  11159\u001b[0m \u001b[43m    \u001b[49m\u001b[43mfunc\u001b[49m\u001b[43m,\u001b[49m\u001b[43m \u001b[49m\u001b[43mname\u001b[49m\u001b[38;5;241;43m=\u001b[39;49m\u001b[43mname\u001b[49m\u001b[43m,\u001b[49m\u001b[43m \u001b[49m\u001b[43maxis\u001b[49m\u001b[38;5;241;43m=\u001b[39;49m\u001b[43maxis\u001b[49m\u001b[43m,\u001b[49m\u001b[43m \u001b[49m\u001b[43mskipna\u001b[49m\u001b[38;5;241;43m=\u001b[39;49m\u001b[43mskipna\u001b[49m\u001b[43m,\u001b[49m\u001b[43m \u001b[49m\u001b[43mnumeric_only\u001b[49m\u001b[38;5;241;43m=\u001b[39;49m\u001b[43mnumeric_only\u001b[49m\n\u001b[0;32m  11160\u001b[0m \u001b[43m\u001b[49m\u001b[43m)\u001b[49m\n",
      "File \u001b[1;32m~\\AppData\\Local\\Programs\\Python\\Python311\\Lib\\site-packages\\pandas\\core\\series.py:4670\u001b[0m, in \u001b[0;36mSeries._reduce\u001b[1;34m(self, op, name, axis, skipna, numeric_only, filter_type, **kwds)\u001b[0m\n\u001b[0;32m   4665\u001b[0m     \u001b[38;5;28;01mraise\u001b[39;00m \u001b[38;5;167;01mTypeError\u001b[39;00m(\n\u001b[0;32m   4666\u001b[0m         \u001b[38;5;124mf\u001b[39m\u001b[38;5;124m\"\u001b[39m\u001b[38;5;124mSeries.\u001b[39m\u001b[38;5;132;01m{\u001b[39;00mname\u001b[38;5;132;01m}\u001b[39;00m\u001b[38;5;124m does not allow \u001b[39m\u001b[38;5;132;01m{\u001b[39;00mkwd_name\u001b[38;5;132;01m}\u001b[39;00m\u001b[38;5;124m=\u001b[39m\u001b[38;5;132;01m{\u001b[39;00mnumeric_only\u001b[38;5;132;01m}\u001b[39;00m\u001b[38;5;124m \u001b[39m\u001b[38;5;124m\"\u001b[39m\n\u001b[0;32m   4667\u001b[0m         \u001b[38;5;124m\"\u001b[39m\u001b[38;5;124mwith non-numeric dtypes.\u001b[39m\u001b[38;5;124m\"\u001b[39m\n\u001b[0;32m   4668\u001b[0m     )\n\u001b[0;32m   4669\u001b[0m \u001b[38;5;28;01mwith\u001b[39;00m np\u001b[38;5;241m.\u001b[39merrstate(\u001b[38;5;28mall\u001b[39m\u001b[38;5;241m=\u001b[39m\u001b[38;5;124m\"\u001b[39m\u001b[38;5;124mignore\u001b[39m\u001b[38;5;124m\"\u001b[39m):\n\u001b[1;32m-> 4670\u001b[0m     \u001b[38;5;28;01mreturn\u001b[39;00m \u001b[43mop\u001b[49m\u001b[43m(\u001b[49m\u001b[43mdelegate\u001b[49m\u001b[43m,\u001b[49m\u001b[43m \u001b[49m\u001b[43mskipna\u001b[49m\u001b[38;5;241;43m=\u001b[39;49m\u001b[43mskipna\u001b[49m\u001b[43m,\u001b[49m\u001b[43m \u001b[49m\u001b[38;5;241;43m*\u001b[39;49m\u001b[38;5;241;43m*\u001b[39;49m\u001b[43mkwds\u001b[49m\u001b[43m)\u001b[49m\n",
      "File \u001b[1;32m~\\AppData\\Local\\Programs\\Python\\Python311\\Lib\\site-packages\\pandas\\core\\nanops.py:96\u001b[0m, in \u001b[0;36mdisallow.__call__.<locals>._f\u001b[1;34m(*args, **kwargs)\u001b[0m\n\u001b[0;32m     94\u001b[0m \u001b[38;5;28;01mtry\u001b[39;00m:\n\u001b[0;32m     95\u001b[0m     \u001b[38;5;28;01mwith\u001b[39;00m np\u001b[38;5;241m.\u001b[39merrstate(invalid\u001b[38;5;241m=\u001b[39m\u001b[38;5;124m\"\u001b[39m\u001b[38;5;124mignore\u001b[39m\u001b[38;5;124m\"\u001b[39m):\n\u001b[1;32m---> 96\u001b[0m         \u001b[38;5;28;01mreturn\u001b[39;00m \u001b[43mf\u001b[49m\u001b[43m(\u001b[49m\u001b[38;5;241;43m*\u001b[39;49m\u001b[43margs\u001b[49m\u001b[43m,\u001b[49m\u001b[43m \u001b[49m\u001b[38;5;241;43m*\u001b[39;49m\u001b[38;5;241;43m*\u001b[39;49m\u001b[43mkwargs\u001b[49m\u001b[43m)\u001b[49m\n\u001b[0;32m     97\u001b[0m \u001b[38;5;28;01mexcept\u001b[39;00m \u001b[38;5;167;01mValueError\u001b[39;00m \u001b[38;5;28;01mas\u001b[39;00m e:\n\u001b[0;32m     98\u001b[0m     \u001b[38;5;66;03m# we want to transform an object array\u001b[39;00m\n\u001b[0;32m     99\u001b[0m     \u001b[38;5;66;03m# ValueError message to the more typical TypeError\u001b[39;00m\n\u001b[0;32m    100\u001b[0m     \u001b[38;5;66;03m# e.g. this is normally a disallowed function on\u001b[39;00m\n\u001b[0;32m    101\u001b[0m     \u001b[38;5;66;03m# object arrays that contain strings\u001b[39;00m\n\u001b[0;32m    102\u001b[0m     \u001b[38;5;28;01mif\u001b[39;00m is_object_dtype(args[\u001b[38;5;241m0\u001b[39m]):\n",
      "File \u001b[1;32m~\\AppData\\Local\\Programs\\Python\\Python311\\Lib\\site-packages\\pandas\\core\\nanops.py:158\u001b[0m, in \u001b[0;36mbottleneck_switch.__call__.<locals>.f\u001b[1;34m(values, axis, skipna, **kwds)\u001b[0m\n\u001b[0;32m    156\u001b[0m         result \u001b[38;5;241m=\u001b[39m alt(values, axis\u001b[38;5;241m=\u001b[39maxis, skipna\u001b[38;5;241m=\u001b[39mskipna, \u001b[38;5;241m*\u001b[39m\u001b[38;5;241m*\u001b[39mkwds)\n\u001b[0;32m    157\u001b[0m \u001b[38;5;28;01melse\u001b[39;00m:\n\u001b[1;32m--> 158\u001b[0m     result \u001b[38;5;241m=\u001b[39m \u001b[43malt\u001b[49m\u001b[43m(\u001b[49m\u001b[43mvalues\u001b[49m\u001b[43m,\u001b[49m\u001b[43m \u001b[49m\u001b[43maxis\u001b[49m\u001b[38;5;241;43m=\u001b[39;49m\u001b[43maxis\u001b[49m\u001b[43m,\u001b[49m\u001b[43m \u001b[49m\u001b[43mskipna\u001b[49m\u001b[38;5;241;43m=\u001b[39;49m\u001b[43mskipna\u001b[49m\u001b[43m,\u001b[49m\u001b[43m \u001b[49m\u001b[38;5;241;43m*\u001b[39;49m\u001b[38;5;241;43m*\u001b[39;49m\u001b[43mkwds\u001b[49m\u001b[43m)\u001b[49m\n\u001b[0;32m    160\u001b[0m \u001b[38;5;28;01mreturn\u001b[39;00m result\n",
      "File \u001b[1;32m~\\AppData\\Local\\Programs\\Python\\Python311\\Lib\\site-packages\\pandas\\core\\nanops.py:421\u001b[0m, in \u001b[0;36m_datetimelike_compat.<locals>.new_func\u001b[1;34m(values, axis, skipna, mask, **kwargs)\u001b[0m\n\u001b[0;32m    418\u001b[0m \u001b[38;5;28;01mif\u001b[39;00m datetimelike \u001b[38;5;129;01mand\u001b[39;00m mask \u001b[38;5;129;01mis\u001b[39;00m \u001b[38;5;28;01mNone\u001b[39;00m:\n\u001b[0;32m    419\u001b[0m     mask \u001b[38;5;241m=\u001b[39m isna(values)\n\u001b[1;32m--> 421\u001b[0m result \u001b[38;5;241m=\u001b[39m \u001b[43mfunc\u001b[49m\u001b[43m(\u001b[49m\u001b[43mvalues\u001b[49m\u001b[43m,\u001b[49m\u001b[43m \u001b[49m\u001b[43maxis\u001b[49m\u001b[38;5;241;43m=\u001b[39;49m\u001b[43maxis\u001b[49m\u001b[43m,\u001b[49m\u001b[43m \u001b[49m\u001b[43mskipna\u001b[49m\u001b[38;5;241;43m=\u001b[39;49m\u001b[43mskipna\u001b[49m\u001b[43m,\u001b[49m\u001b[43m \u001b[49m\u001b[43mmask\u001b[49m\u001b[38;5;241;43m=\u001b[39;49m\u001b[43mmask\u001b[49m\u001b[43m,\u001b[49m\u001b[43m \u001b[49m\u001b[38;5;241;43m*\u001b[39;49m\u001b[38;5;241;43m*\u001b[39;49m\u001b[43mkwargs\u001b[49m\u001b[43m)\u001b[49m\n\u001b[0;32m    423\u001b[0m \u001b[38;5;28;01mif\u001b[39;00m datetimelike:\n\u001b[0;32m    424\u001b[0m     result \u001b[38;5;241m=\u001b[39m _wrap_results(result, orig_values\u001b[38;5;241m.\u001b[39mdtype, fill_value\u001b[38;5;241m=\u001b[39miNaT)\n",
      "File \u001b[1;32m~\\AppData\\Local\\Programs\\Python\\Python311\\Lib\\site-packages\\pandas\\core\\nanops.py:727\u001b[0m, in \u001b[0;36mnanmean\u001b[1;34m(values, axis, skipna, mask)\u001b[0m\n\u001b[0;32m    724\u001b[0m     dtype_count \u001b[38;5;241m=\u001b[39m dtype\n\u001b[0;32m    726\u001b[0m count \u001b[38;5;241m=\u001b[39m _get_counts(values\u001b[38;5;241m.\u001b[39mshape, mask, axis, dtype\u001b[38;5;241m=\u001b[39mdtype_count)\n\u001b[1;32m--> 727\u001b[0m the_sum \u001b[38;5;241m=\u001b[39m \u001b[43m_ensure_numeric\u001b[49m\u001b[43m(\u001b[49m\u001b[43mvalues\u001b[49m\u001b[38;5;241;43m.\u001b[39;49m\u001b[43msum\u001b[49m\u001b[43m(\u001b[49m\u001b[43maxis\u001b[49m\u001b[43m,\u001b[49m\u001b[43m \u001b[49m\u001b[43mdtype\u001b[49m\u001b[38;5;241;43m=\u001b[39;49m\u001b[43mdtype_sum\u001b[49m\u001b[43m)\u001b[49m\u001b[43m)\u001b[49m\n\u001b[0;32m    729\u001b[0m \u001b[38;5;28;01mif\u001b[39;00m axis \u001b[38;5;129;01mis\u001b[39;00m \u001b[38;5;129;01mnot\u001b[39;00m \u001b[38;5;28;01mNone\u001b[39;00m \u001b[38;5;129;01mand\u001b[39;00m \u001b[38;5;28mgetattr\u001b[39m(the_sum, \u001b[38;5;124m\"\u001b[39m\u001b[38;5;124mndim\u001b[39m\u001b[38;5;124m\"\u001b[39m, \u001b[38;5;28;01mFalse\u001b[39;00m):\n\u001b[0;32m    730\u001b[0m     count \u001b[38;5;241m=\u001b[39m cast(np\u001b[38;5;241m.\u001b[39mndarray, count)\n",
      "File \u001b[1;32m~\\AppData\\Local\\Programs\\Python\\Python311\\Lib\\site-packages\\pandas\\core\\nanops.py:1699\u001b[0m, in \u001b[0;36m_ensure_numeric\u001b[1;34m(x)\u001b[0m\n\u001b[0;32m   1696\u001b[0m             x \u001b[38;5;241m=\u001b[39m \u001b[38;5;28mcomplex\u001b[39m(x)\n\u001b[0;32m   1697\u001b[0m         \u001b[38;5;28;01mexcept\u001b[39;00m \u001b[38;5;167;01mValueError\u001b[39;00m \u001b[38;5;28;01mas\u001b[39;00m err:\n\u001b[0;32m   1698\u001b[0m             \u001b[38;5;66;03m# e.g. \"foo\"\u001b[39;00m\n\u001b[1;32m-> 1699\u001b[0m             \u001b[38;5;28;01mraise\u001b[39;00m \u001b[38;5;167;01mTypeError\u001b[39;00m(\u001b[38;5;124mf\u001b[39m\u001b[38;5;124m\"\u001b[39m\u001b[38;5;124mCould not convert \u001b[39m\u001b[38;5;132;01m{\u001b[39;00mx\u001b[38;5;132;01m}\u001b[39;00m\u001b[38;5;124m to numeric\u001b[39m\u001b[38;5;124m\"\u001b[39m) \u001b[38;5;28;01mfrom\u001b[39;00m \u001b[38;5;21;01merr\u001b[39;00m\n\u001b[0;32m   1700\u001b[0m \u001b[38;5;28;01mreturn\u001b[39;00m x\n",
      "\u001b[1;31mTypeError\u001b[0m: Could not convert abcdef to numeric"
     ]
    }
   ],
   "source": [
    "df1['column_2'].mean()"
   ]
  },
  {
   "cell_type": "markdown",
   "id": "424307ad",
   "metadata": {},
   "source": [
    "### Error is because of the string datatype used here\n",
    "\n",
    "### Firstly mean = sum / number of objects\n",
    "\n",
    "### Here we will be able to get sum as abcdef in pandas\n",
    "\n",
    "### now problem will occur when dividing by number\n",
    "\n",
    "### it is not possible to divide string by a number it will give TypeError\n",
    "\n",
    "### Note that mean functionality will work only for integer and float datatypes\n",
    "\n",
    "### In case if data is provided for number in strings typecast it into int or float using .astype(float) function"
   ]
  },
  {
   "cell_type": "markdown",
   "id": "d4c11765",
   "metadata": {},
   "source": [
    "## Consider below example where i have considered numbers as string in below case"
   ]
  },
  {
   "cell_type": "code",
   "execution_count": 27,
   "id": "e285ee61",
   "metadata": {},
   "outputs": [
    {
     "data": {
      "text/html": [
       "<div>\n",
       "<style scoped>\n",
       "    .dataframe tbody tr th:only-of-type {\n",
       "        vertical-align: middle;\n",
       "    }\n",
       "\n",
       "    .dataframe tbody tr th {\n",
       "        vertical-align: top;\n",
       "    }\n",
       "\n",
       "    .dataframe thead th {\n",
       "        text-align: right;\n",
       "    }\n",
       "</style>\n",
       "<table border=\"1\" class=\"dataframe\">\n",
       "  <thead>\n",
       "    <tr style=\"text-align: right;\">\n",
       "      <th></th>\n",
       "      <th>column_1</th>\n",
       "      <th>column_2</th>\n",
       "      <th>column_3</th>\n",
       "      <th>column_4</th>\n",
       "      <th>column_5</th>\n",
       "      <th>column_6</th>\n",
       "    </tr>\n",
       "  </thead>\n",
       "  <tbody>\n",
       "    <tr>\n",
       "      <th>1</th>\n",
       "      <td>0.798225</td>\n",
       "      <td>1</td>\n",
       "      <td>0.658975</td>\n",
       "      <td>0.248094</td>\n",
       "      <td>0.513787</td>\n",
       "      <td>0.188752</td>\n",
       "    </tr>\n",
       "    <tr>\n",
       "      <th>2</th>\n",
       "      <td>0.563460</td>\n",
       "      <td>2</td>\n",
       "      <td>0.179912</td>\n",
       "      <td>0.377861</td>\n",
       "      <td>0.235335</td>\n",
       "      <td>0.638268</td>\n",
       "    </tr>\n",
       "    <tr>\n",
       "      <th>3</th>\n",
       "      <td>0.624975</td>\n",
       "      <td>3</td>\n",
       "      <td>0.435219</td>\n",
       "      <td>0.808539</td>\n",
       "      <td>0.442686</td>\n",
       "      <td>0.189335</td>\n",
       "    </tr>\n",
       "    <tr>\n",
       "      <th>4</th>\n",
       "      <td>0.603084</td>\n",
       "      <td>4</td>\n",
       "      <td>0.418909</td>\n",
       "      <td>0.607384</td>\n",
       "      <td>0.059729</td>\n",
       "      <td>0.017864</td>\n",
       "    </tr>\n",
       "    <tr>\n",
       "      <th>5</th>\n",
       "      <td>0.639128</td>\n",
       "      <td>5</td>\n",
       "      <td>0.854517</td>\n",
       "      <td>0.148573</td>\n",
       "      <td>0.943362</td>\n",
       "      <td>0.287890</td>\n",
       "    </tr>\n",
       "    <tr>\n",
       "      <th>6</th>\n",
       "      <td>0.896504</td>\n",
       "      <td>6</td>\n",
       "      <td>0.104145</td>\n",
       "      <td>0.110302</td>\n",
       "      <td>0.868013</td>\n",
       "      <td>0.817110</td>\n",
       "    </tr>\n",
       "  </tbody>\n",
       "</table>\n",
       "</div>"
      ],
      "text/plain": [
       "   column_1 column_2  column_3  column_4  column_5  column_6\n",
       "1  0.798225        1  0.658975  0.248094  0.513787  0.188752\n",
       "2  0.563460        2  0.179912  0.377861  0.235335  0.638268\n",
       "3  0.624975        3  0.435219  0.808539  0.442686  0.189335\n",
       "4  0.603084        4  0.418909  0.607384  0.059729  0.017864\n",
       "5  0.639128        5  0.854517  0.148573  0.943362  0.287890\n",
       "6  0.896504        6  0.104145  0.110302  0.868013  0.817110"
      ]
     },
     "execution_count": 27,
     "metadata": {},
     "output_type": "execute_result"
    }
   ],
   "source": [
    "df1['column_2']=['1','2','3','4','5','6']\n",
    "df1"
   ]
  },
  {
   "cell_type": "code",
   "execution_count": 28,
   "id": "2c33b800",
   "metadata": {},
   "outputs": [
    {
     "data": {
      "text/plain": [
       "20576.0"
      ]
     },
     "execution_count": 28,
     "metadata": {},
     "output_type": "execute_result"
    }
   ],
   "source": [
    "df1['column_2'].mean()"
   ]
  },
  {
   "cell_type": "markdown",
   "id": "7d74728b",
   "metadata": {},
   "source": [
    "## Why I'm getting 20576.0 for above case?\n",
    "\n",
    "### 1. Function will do sum operation for strings i.e. sum = '123456' in this case for column 2\n",
    "### 2. Function will convert string object to float now sum = 123456.0 in float\n",
    "### 3. mean = sum / number of records , in this case mean = 123456/6 = 20576.0\n",
    "### 4. This result is misleading and this is why we need to check datatypes and convert them using astypes function\n",
    "\n",
    "### Below is correct code to calculate accurate mean for column_2 data for this example"
   ]
  },
  {
   "cell_type": "code",
   "execution_count": 29,
   "id": "d793eed0",
   "metadata": {},
   "outputs": [],
   "source": [
    "# converting column_2 datatype to integer\n",
    "df1['column_2'] = df1['column_2'].astype(int)"
   ]
  },
  {
   "cell_type": "code",
   "execution_count": 30,
   "id": "0f4f55d7",
   "metadata": {},
   "outputs": [
    {
     "data": {
      "text/plain": [
       "3.5"
      ]
     },
     "execution_count": 30,
     "metadata": {},
     "output_type": "execute_result"
    }
   ],
   "source": [
    "df1['column_2'].mean()"
   ]
  },
  {
   "cell_type": "markdown",
   "id": "f2e4463f",
   "metadata": {},
   "source": [
    "### Above is correct mean for column_2"
   ]
  },
  {
   "cell_type": "markdown",
   "id": "e7eb5808",
   "metadata": {},
   "source": [
    "# Q6. What do you understand about the windows function in pandas and list the types of windows functions?"
   ]
  },
  {
   "cell_type": "markdown",
   "id": "955bbf3d",
   "metadata": {},
   "source": [
    "## Answer :\n",
    "\n",
    "### The window functions in Pandas are used to perform some sort of calculations across a set of rows that are interrelated with the current row. The windows functions help us to perform the aggregated calculations across various partitions or cross-sections of the data. \n",
    "\n",
    "### A question that comes to our mind after reading the windows function is what exactly is a window? Well, a window is a value (in terms of rows) that tells us the distance between our current row and the row which is to be used for calculations."
   ]
  },
  {
   "cell_type": "markdown",
   "id": "732d1604",
   "metadata": {},
   "source": [
    "## Windows function in Pandas can be broadly divided into three categories, namely- Aggregate, Ranking, and Value.\n",
    "\n",
    "### The Aggregate category of window functions can be of three types, namely-\n",
    "\n",
    "    Group,\n",
    "    Rolling, and\n",
    "    Expanding.\n",
    "   \n",
    "### The Ranking category of window functions can be of five types, namely-\n",
    "\n",
    "    Row Numbers,\n",
    "     Row numbers if of two types:\n",
    "      reset_index()\n",
    "      cumcount()\n",
    "    Rank,\n",
    "     Rank is of four types:\n",
    "      default_rank\n",
    "      min_rank\n",
    "      NA_bottom\n",
    "      descending\n",
    "    Dense rank,\n",
    "    Percent, and\n",
    "    N-Tile / qcut().\n",
    "### The Value category of window functions can be of two types, namely-\n",
    "\n",
    "    Lag / Lead, and\n",
    "    First / Last/nth."
   ]
  },
  {
   "cell_type": "markdown",
   "id": "2df6b04b",
   "metadata": {},
   "source": [
    "# Q7. Write a code to print only the current month and year at the time of answering this question.\n",
    "### [Hint: Use pandas.datetime function]"
   ]
  },
  {
   "cell_type": "code",
   "execution_count": 31,
   "id": "70e55244",
   "metadata": {},
   "outputs": [
    {
     "data": {
      "text/plain": [
       "Timestamp('2023-09-12 15:51:12.077195')"
      ]
     },
     "execution_count": 31,
     "metadata": {},
     "output_type": "execute_result"
    }
   ],
   "source": [
    "# Getting current timestamp\n",
    "timestamp_now = pd.Timestamp.now()\n",
    "timestamp_now"
   ]
  },
  {
   "cell_type": "code",
   "execution_count": 32,
   "id": "ad4b6813",
   "metadata": {},
   "outputs": [],
   "source": [
    "# Getting current month and year\n",
    "month = timestamp_now.month_name()\n",
    "year = timestamp_now.year"
   ]
  },
  {
   "cell_type": "code",
   "execution_count": 33,
   "id": "3a505c1e",
   "metadata": {},
   "outputs": [
    {
     "name": "stdout",
     "output_type": "stream",
     "text": [
      "Month while writing this code is : September\n",
      "Year while writing this code is  : 2023\n"
     ]
    }
   ],
   "source": [
    "# Displaying current Month and Year\n",
    "print(f'Month while writing this code is : {month}')\n",
    "print(f'Year while writing this code is  : {year}')"
   ]
  },
  {
   "cell_type": "markdown",
   "id": "deac96f5",
   "metadata": {},
   "source": [
    "# Q8. Write a Python program that takes in two dates as input (in the format YYYY-MM-DD) and calculates the difference between them in days, hours, and minutes using Pandas time delta. The program should prompt the user to enter the dates and display the result."
   ]
  },
  {
   "cell_type": "code",
   "execution_count": 34,
   "id": "c6832f33",
   "metadata": {},
   "outputs": [
    {
     "name": "stdout",
     "output_type": "stream",
     "text": [
      "Enter the first date (YYYY-MM-DD): 2001-12-10\n",
      "Enter the second date (YYYY-MM-DD): 2023-09-12\n",
      "The difference between 2001-12-10 and 2023-09-12 is 7946 days\n"
     ]
    }
   ],
   "source": [
    "import pandas as pd\n",
    "\n",
    "try:\n",
    "    # Prompt the user to enter the first date\n",
    "    date1 = input(\"Enter the first date (YYYY-MM-DD): \")\n",
    "\n",
    "    # Prompt the user to enter the second date\n",
    "    date2 = input(\"Enter the second date (YYYY-MM-DD): \")\n",
    "\n",
    "    # Convert the dates to datetime objects\n",
    "    date1 = pd.to_datetime(date1)\n",
    "    date2 = pd.to_datetime(date2)\n",
    "\n",
    "    # Calculate the time difference between the dates\n",
    "    time_diff = date2 - date1\n",
    "    days =time_diff.days\n",
    "\n",
    "    # Display the result\n",
    "    print(f\"The difference between {date1.date()} and {date2.date()} is {days} days\")\n",
    "\n",
    "except Exception as e:\n",
    "    print('Input provided for date1 :',date1)\n",
    "    print('Input provided for date2 :',date2)\n",
    "    print('Exception Occured and Handled :',e)\n"
   ]
  },
  {
   "cell_type": "markdown",
   "id": "9a6d1ca1",
   "metadata": {},
   "source": [
    "# Q9. Write a Python program that reads a CSV file containing categorical data and converts a specified column to a categorical data type. The program should prompt the user to enter the file path, columnname, and category order, and then display the sorted data."
   ]
  },
  {
   "cell_type": "code",
   "execution_count": 37,
   "id": "ef3afa10",
   "metadata": {},
   "outputs": [
    {
     "name": "stdout",
     "output_type": "stream",
     "text": [
      "Enter the file path: Parth.csv\n",
      "Enter the column name: Grades\n",
      "Enter the category order (comma-separated values): C,B,A\n",
      "File Path Entered : Parth.csv\n",
      "Column name Entered : Grades\n",
      "Category Order : ['C', 'B', 'A'] \n",
      "\n",
      "==================================\n",
      "\n",
      "      Name  Gender Grades\n",
      "0    Krish    Male      A\n",
      "4   Sunita  Female      A\n",
      "6  Utkarsh    Male      A\n",
      "2    Yusuf    Male      B\n",
      "5    Kiara  Female      B\n",
      "1   Dhiraj    Male      C\n",
      "3    Aditi  Female      C\n"
     ]
    }
   ],
   "source": [
    "import pandas as pd\n",
    "\n",
    "try :\n",
    "    # Prompt the user to enter the file path\n",
    "    file_path = input(\"Enter the file path: \")\n",
    "\n",
    "    # Prompt the user to enter the column name to convert to categorical datatype\n",
    "    column_name = input(\"Enter the column name: \")\n",
    "\n",
    "    # Read the CSV file into a DataFrame\n",
    "    df = pd.read_csv(file_path)\n",
    "\n",
    "    # Prompt the user to enter the category order\n",
    "    category_order = input(\"Enter the category order (comma-separated values): \")\n",
    "    category_order = [cat.strip() for cat in category_order.split(\",\")]\n",
    "\n",
    "    # Convert the specified column to categorical datatype\n",
    "    df[column_name] = pd.Categorical(df[column_name], categories=category_order, ordered=True)\n",
    "\n",
    "    # Sort the data based on the categorical column\n",
    "    df_sorted = df.sort_values(column_name, ascending=False)\n",
    "\n",
    "    # Display the sorted data and entered data\n",
    "    print('File Path Entered :',file_path)\n",
    "    print('Column name Entered :',column_name)\n",
    "    print('Category Order :',category_order,'\\n')\n",
    "    print('==================================\\n')\n",
    "    print(df_sorted)\n",
    "\n",
    "except Exception as e:\n",
    "    print('File Path Entered :',file_path)\n",
    "    print('Column name Entered :',column_name)\n",
    "    print('Category Order :',category_order)\n",
    "    print('Exception Occured and Handled :',e)"
   ]
  },
  {
   "cell_type": "markdown",
   "id": "35333beb",
   "metadata": {},
   "source": [
    "# Q10. Write a Python program that reads a CSV file containing sales data for different products and visualizes the data using a stacked bar chart to show the sales of each product category over time. The program should prompt the user to enter the file path and display the chart."
   ]
  },
  {
   "cell_type": "code",
   "execution_count": 40,
   "id": "7684c5cb",
   "metadata": {},
   "outputs": [
    {
     "name": "stdout",
     "output_type": "stream",
     "text": [
      "Enter the file path: Parthsales.csv\n",
      "File path Entered :  Parthsales.csv \n",
      "\n",
      "=====================================\n",
      "\n",
      "Input CSV provided\n",
      "\n",
      "        Date  Product  Sales\n",
      "0 2022-01-01   iPhone    100\n",
      "1 2022-01-01  OnePlus    150\n",
      "2 2022-01-02  Samsung    120\n",
      "3 2022-01-02   iPhone    130\n",
      "4 2022-01-03  OnePlus     80\n",
      "5 2022-01-03  Samsung    180\n",
      "6 2022-01-04   iPhone     90\n",
      "7 2022-01-04  Samsung    200\n",
      "8 2022-01-05  OnePlus    110\n",
      "9 2022-01-05   iPhone    170\n",
      "\n",
      "=====================================\n",
      "\n"
     ]
    },
    {
     "data": {
      "image/png": "[encoded data removed]",
      "text/plain": [
       "<Figure size 1000x1000 with 1 Axes>"
      ]
     },
     "metadata": {},
     "output_type": "display_data"
    }
   ],
   "source": [
    "import pandas as pd\n",
    "\n",
    "try:\n",
    "    # Prompt the user to enter the file path\n",
    "    file_path = input(\"Enter the file path: \")\n",
    "    \n",
    "    # Read the CSV file into a DataFrame\n",
    "    df = pd.read_csv(file_path)\n",
    "\n",
    "    # Convert the date column to datetime datatype\n",
    "    df['Date'] = pd.to_datetime(df['Date'])\n",
    "\n",
    "    # Group the data by product and date, and sum the sales\n",
    "    df_grouped = df.groupby(['Product', 'Date']).sum().reset_index()\n",
    "\n",
    "    # Pivot the data to create a matrix of sales by product and date\n",
    "    df_pivot = df_grouped.pivot(index='Date', columns='Product', values='Sales')\n",
    "\n",
    "    # Print the filepath provided\n",
    "    print('File path Entered : ', file_path,'\\n')\n",
    "    print('=====================================\\n')\n",
    "\n",
    "    print('Input CSV provided\\n')\n",
    "    print(df)\n",
    "\n",
    "    print('\\n=====================================\\n')\n",
    "    # Plot stacked barchart overtime\n",
    "    df_pivot.plot(kind='bar',\n",
    "                  stacked=True,\n",
    "                  title='Product Sales Over time', \n",
    "                  xlabel='Date',\n",
    "                  ylabel='Sales',\n",
    "                  figsize=(10,10))\n",
    "\n",
    "except Exception as e:     \n",
    "    print('File path Entered : ', file_path,'\\n')\n",
    "    print('Exception occured and Handled : ',e)"
   ]
  },
  {
   "cell_type": "markdown",
   "id": "399fff99",
   "metadata": {},
   "source": [
    "## Question 11: You are given a CSV file containing student data that includes student ID and their test scores. Write a python program that reads csv file , calculates mean , median and mode of test scores and displays the result in a table\n",
    "\n",
    "### The Program should do the following:\n",
    "\n",
    "1. Prompt the user to enter the file path of CSV file containing the students data.\n",
    "2. Read CSV into Pandas DataFrame.\n",
    "3. Calculate Mean, Median , Mode of test scores using Pandas tools.\n",
    "4. Display Mean, Median and Mode in a table\n",
    "\n",
    "### Assume CSV file contains following:\n",
    "\n",
    "1. Student ID : The ID of Student\n",
    "2. Test Score : The Score of student's test\n",
    "\n",
    "### Assume that the CSV file student_data.csv contains the following data:\n",
    "\n",
    "|Student ID|Test Score|\n",
    "|:--------:|:--------:|\n",
    "|1         |85        |\n",
    "|2         |90        |\n",
    "|3         |80        |\n",
    "|4         |75        |\n",
    "|5         |85        |\n",
    "|6         |82        |\n",
    "|7         |78        |\n",
    "|8         |85        |\n",
    "|9         |90        |\n",
    "|10        |85        |\n",
    "\n",
    "### This Program should calculate the Mean, Median ,Mode and Display it in table\n",
    "--- \n"
   ]
  },
  {
   "cell_type": "code",
   "execution_count": 41,
   "id": "927391a3",
   "metadata": {},
   "outputs": [
    {
     "name": "stdout",
     "output_type": "stream",
     "text": [
      "Enter the file path: student_data.csv\n",
      "File Path Entered : student_data.csv\n",
      "\n",
      "==============================\n",
      "\n",
      "DataFrame Provided\n",
      "\n",
      "   Student ID  Test Score\n",
      "0           1          85\n",
      "1           2          90\n",
      "2           3          80\n",
      "3           4          75\n",
      "4           5          85\n",
      "5           6          82\n",
      "6           7          78\n",
      "7           8          85\n",
      "8           9          90\n",
      "9          10          85\n",
      "\n",
      "==============================\n",
      "\n",
      "Statistics Table\n",
      "\n",
      "  Statistic  Value\n",
      "0      Mean   83.5\n",
      "1    Median   85.0\n",
      "2      Mode   85.0\n"
     ]
    }
   ],
   "source": [
    "import pandas as pd\n",
    "\n",
    "try:\n",
    "    # Prompt the user to enter the file path\n",
    "    file_path = input(\"Enter the file path: \")\n",
    "    \n",
    "    # Read the CSV file into a DataFrame\n",
    "    df = pd.read_csv(file_path)\n",
    "\n",
    "    # Calculate Mean, Median, Mode of Test Score\n",
    "    test_mean = df['Test Score'].mean()\n",
    "    test_median = df['Test Score'].median()\n",
    "    test_mode = df['Test Score'].mode()[0]\n",
    "\n",
    "    # Create A DataFrame to Show above results\n",
    "    df_stats = pd.DataFrame({'Statistic':['Mean','Median','Mode'],\n",
    "                             'Value':[test_mean,test_median,test_mode]})    \n",
    "\n",
    "    # Print File Path Entered:\n",
    "    print('File Path Entered :',file_path)\n",
    "    print('\\n==============================\\n') \n",
    "    print('DataFrame Provided\\n')\n",
    "    print(df)\n",
    "    print('\\n==============================\\n')\n",
    "    print('Statistics Table\\n')\n",
    "    print(df_stats)    \n",
    "\n",
    "except Exception as e:\n",
    "    print('File Path Entered :',file_path)\n",
    "    print('Exception Occured :',e)"
   ]
  },
  {
   "cell_type": "code",
   "execution_count": null,
   "id": "74d78457",
   "metadata": {},
   "outputs": [],
   "source": []
  }
 ],
 "metadata": {
  "kernelspec": {
   "display_name": "Python 3 (ipykernel)",
   "language": "python",
   "name": "python3"
  },
  "language_info": {
   "codemirror_mode": {
    "name": "ipython",
    "version": 3
   },
   "file_extension": ".py",
   "mimetype": "text/x-python",
   "name": "python",
   "nbconvert_exporter": "python",
   "pygments_lexer": "ipython3",
   "version": "3.11.3"
  }
 },
 "nbformat": 4,
 "nbformat_minor": 5
}
