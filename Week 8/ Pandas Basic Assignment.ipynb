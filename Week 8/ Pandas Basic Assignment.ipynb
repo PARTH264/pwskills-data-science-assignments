{
 "cells": [
  {
   "cell_type": "markdown",
   "id": "f5802dfb",
   "metadata": {},
   "source": [
    "### Q1. Create a Pandas Series that contains the following data: 4, 8, 15, 16, 23, and 42. Then, print the series.\n"
   ]
  },
  {
   "cell_type": "code",
   "execution_count": 2,
   "id": "73b01fa1",
   "metadata": {},
   "outputs": [],
   "source": [
    "import pandas as pd \n",
    "pd_series = pd.Series([4,8,15,16,2,42])"
   ]
  },
  {
   "cell_type": "code",
   "execution_count": 3,
   "id": "b02cc50b",
   "metadata": {},
   "outputs": [
    {
     "data": {
      "text/plain": [
       "0     4\n",
       "1     8\n",
       "2    15\n",
       "3    16\n",
       "4     2\n",
       "5    42\n",
       "dtype: int64"
      ]
     },
     "execution_count": 3,
     "metadata": {},
     "output_type": "execute_result"
    }
   ],
   "source": [
    "pd_series"
   ]
  },
  {
   "cell_type": "markdown",
   "id": "cf6f94a9",
   "metadata": {},
   "source": [
    "### Q2. Create a variable of list type containing 10 elements in it, and apply pandas.Series function on the variable print it."
   ]
  },
  {
   "cell_type": "code",
   "execution_count": 4,
   "id": "cc9f33ef",
   "metadata": {},
   "outputs": [
    {
     "data": {
      "text/plain": [
       "0     4\n",
       "1     8\n",
       "2    15\n",
       "3    16\n",
       "4     2\n",
       "5    42\n",
       "6    56\n",
       "7    78\n",
       "8    25\n",
       "9    15\n",
       "dtype: int64"
      ]
     },
     "execution_count": 4,
     "metadata": {},
     "output_type": "execute_result"
    }
   ],
   "source": [
    "list = [4,8,15,16,2,42,56,78,25,15]\n",
    "x = pd.Series(list)\n",
    "x"
   ]
  },
  {
   "cell_type": "markdown",
   "id": "e988b354",
   "metadata": {},
   "source": [
    "### Q3. Create a Pandas DataFrame that contains the following data:"
   ]
  },
  {
   "cell_type": "code",
   "execution_count": 5,
   "id": "efae4f68",
   "metadata": {},
   "outputs": [],
   "source": [
    "data_frame = pd.DataFrame({'Name': ('Alice','Bob','Claire'),\n",
    "               'Age' : (25,30,27),\n",
    "               'Gender' : ('Female','Male','Female')})"
   ]
  },
  {
   "cell_type": "code",
   "execution_count": 6,
   "id": "86664fc1",
   "metadata": {},
   "outputs": [
    {
     "data": {
      "text/html": [
       "<div>\n",
       "<style scoped>\n",
       "    .dataframe tbody tr th:only-of-type {\n",
       "        vertical-align: middle;\n",
       "    }\n",
       "\n",
       "    .dataframe tbody tr th {\n",
       "        vertical-align: top;\n",
       "    }\n",
       "\n",
       "    .dataframe thead th {\n",
       "        text-align: right;\n",
       "    }\n",
       "</style>\n",
       "<table border=\"1\" class=\"dataframe\">\n",
       "  <thead>\n",
       "    <tr style=\"text-align: right;\">\n",
       "      <th></th>\n",
       "      <th>Name</th>\n",
       "      <th>Age</th>\n",
       "      <th>Gender</th>\n",
       "    </tr>\n",
       "  </thead>\n",
       "  <tbody>\n",
       "    <tr>\n",
       "      <th>0</th>\n",
       "      <td>Alice</td>\n",
       "      <td>25</td>\n",
       "      <td>Female</td>\n",
       "    </tr>\n",
       "    <tr>\n",
       "      <th>1</th>\n",
       "      <td>Bob</td>\n",
       "      <td>30</td>\n",
       "      <td>Male</td>\n",
       "    </tr>\n",
       "    <tr>\n",
       "      <th>2</th>\n",
       "      <td>Claire</td>\n",
       "      <td>27</td>\n",
       "      <td>Female</td>\n",
       "    </tr>\n",
       "  </tbody>\n",
       "</table>\n",
       "</div>"
      ],
      "text/plain": [
       "     Name  Age  Gender\n",
       "0   Alice   25  Female\n",
       "1     Bob   30    Male\n",
       "2  Claire   27  Female"
      ]
     },
     "execution_count": 6,
     "metadata": {},
     "output_type": "execute_result"
    }
   ],
   "source": [
    "data_frame"
   ]
  },
  {
   "cell_type": "markdown",
   "id": "47185ba5",
   "metadata": {},
   "source": [
    "### Q4. What is ‘DataFrame’ in pandas and how is it different from pandas.series? Explain with an example."
   ]
  },
  {
   "cell_type": "markdown",
   "id": "38389fc0",
   "metadata": {},
   "source": [
    "A DataFrame is a two dimensional object that can have columns with potential different types. Different kind of inputs include dictionaries, lists, series, and even another DataFrame."
   ]
  },
  {
   "cell_type": "markdown",
   "id": "9f4c7960",
   "metadata": {},
   "source": [
    "A Series is a one-dimensional object that can hold any data type such as integers, floats and strings."
   ]
  },
  {
   "cell_type": "markdown",
   "id": "aba37b9d",
   "metadata": {},
   "source": [
    "Series is the part of the data frame but dataframe can not be part of the Series. "
   ]
  },
  {
   "cell_type": "code",
   "execution_count": 7,
   "id": "80512aad",
   "metadata": {},
   "outputs": [
    {
     "data": {
      "text/plain": [
       "pandas.core.frame.DataFrame"
      ]
     },
     "execution_count": 7,
     "metadata": {},
     "output_type": "execute_result"
    }
   ],
   "source": [
    "## Data Frame \n",
    "data_frame = pd.DataFrame({'Name': ('Alice','Bob','Claire'),\n",
    "               'Age' : (25,30,27),\n",
    "               'Gender' : ('Female','Male','Female')})\n",
    "type(data_frame)"
   ]
  },
  {
   "cell_type": "code",
   "execution_count": 8,
   "id": "bea2c700",
   "metadata": {},
   "outputs": [],
   "source": [
    "### Series\n",
    "Series = data_frame.Age"
   ]
  },
  {
   "cell_type": "code",
   "execution_count": 9,
   "id": "70e4c44e",
   "metadata": {},
   "outputs": [
    {
     "data": {
      "text/plain": [
       "0    25\n",
       "1    30\n",
       "2    27\n",
       "Name: Age, dtype: int64"
      ]
     },
     "execution_count": 9,
     "metadata": {},
     "output_type": "execute_result"
    }
   ],
   "source": [
    "Series"
   ]
  },
  {
   "cell_type": "code",
   "execution_count": 10,
   "id": "e55a6cac",
   "metadata": {},
   "outputs": [
    {
     "data": {
      "text/plain": [
       "pandas.core.series.Series"
      ]
     },
     "execution_count": 10,
     "metadata": {},
     "output_type": "execute_result"
    }
   ],
   "source": [
    "type(Series)"
   ]
  },
  {
   "cell_type": "markdown",
   "id": "c1b9c36d",
   "metadata": {},
   "source": [
    "### Q5. What are some common functions you can use to manipulate data in a Pandas DataFrame? Can you give an example of when you might use one of these functions?"
   ]
  },
  {
   "cell_type": "code",
   "execution_count": 11,
   "id": "128a0748",
   "metadata": {},
   "outputs": [
    {
     "data": {
      "text/html": [
       "<div>\n",
       "<style scoped>\n",
       "    .dataframe tbody tr th:only-of-type {\n",
       "        vertical-align: middle;\n",
       "    }\n",
       "\n",
       "    .dataframe tbody tr th {\n",
       "        vertical-align: top;\n",
       "    }\n",
       "\n",
       "    .dataframe thead th {\n",
       "        text-align: right;\n",
       "    }\n",
       "</style>\n",
       "<table border=\"1\" class=\"dataframe\">\n",
       "  <thead>\n",
       "    <tr style=\"text-align: right;\">\n",
       "      <th></th>\n",
       "      <th>name</th>\n",
       "      <th>age</th>\n",
       "      <th>city</th>\n",
       "      <th>category</th>\n",
       "      <th>sales</th>\n",
       "      <th>date</th>\n",
       "    </tr>\n",
       "  </thead>\n",
       "  <tbody>\n",
       "    <tr>\n",
       "      <th>0</th>\n",
       "      <td>Utkarsh</td>\n",
       "      <td>25.0</td>\n",
       "      <td>Pune</td>\n",
       "      <td>A</td>\n",
       "      <td>400</td>\n",
       "      <td>2022-01-01</td>\n",
       "    </tr>\n",
       "    <tr>\n",
       "      <th>1</th>\n",
       "      <td>Aditi</td>\n",
       "      <td>30.0</td>\n",
       "      <td>Mumbai</td>\n",
       "      <td>B</td>\n",
       "      <td>200</td>\n",
       "      <td>2022-01-02</td>\n",
       "    </tr>\n",
       "    <tr>\n",
       "      <th>2</th>\n",
       "      <td>Nitin</td>\n",
       "      <td>NaN</td>\n",
       "      <td>Delhi</td>\n",
       "      <td>A</td>\n",
       "      <td>250</td>\n",
       "      <td>2022-01-03</td>\n",
       "    </tr>\n",
       "    <tr>\n",
       "      <th>3</th>\n",
       "      <td>Bhushan</td>\n",
       "      <td>40.0</td>\n",
       "      <td>None</td>\n",
       "      <td>B</td>\n",
       "      <td>150</td>\n",
       "      <td>2022-01-04</td>\n",
       "    </tr>\n",
       "    <tr>\n",
       "      <th>4</th>\n",
       "      <td>Kritika</td>\n",
       "      <td>35.0</td>\n",
       "      <td>Banaras</td>\n",
       "      <td>A</td>\n",
       "      <td>450</td>\n",
       "      <td>2022-01-05</td>\n",
       "    </tr>\n",
       "  </tbody>\n",
       "</table>\n",
       "</div>"
      ],
      "text/plain": [
       "      name   age     city category  sales        date\n",
       "0  Utkarsh  25.0     Pune        A    400  2022-01-01\n",
       "1    Aditi  30.0   Mumbai        B    200  2022-01-02\n",
       "2    Nitin   NaN    Delhi        A    250  2022-01-03\n",
       "3  Bhushan  40.0     None        B    150  2022-01-04\n",
       "4  Kritika  35.0  Banaras        A    450  2022-01-05"
      ]
     },
     "execution_count": 11,
     "metadata": {},
     "output_type": "execute_result"
    }
   ],
   "source": [
    "# create sample dataframe with missing values\n",
    "data5 = {'name': ['Utkarsh', 'Aditi', 'Nitin', 'Bhushan', 'Kritika'],\n",
    "        'age': [25, 30, None, 40, 35],\n",
    "        'city': ['Pune', 'Mumbai', 'Delhi', None, 'Banaras'],\n",
    "        'category': ['A', 'B', 'A', 'B', 'A'],\n",
    "        'sales': [400, 200, 250, 150, 450],\n",
    "        'date': ['2022-01-01', '2022-01-02', '2022-01-03', '2022-01-04', '2022-01-05']}\n",
    "df5 = pd.DataFrame(data5)\n",
    "df5"
   ]
  },
  {
   "cell_type": "markdown",
   "id": "d1c00905",
   "metadata": {},
   "source": [
    "### 1. dropna(): Removes any row with missing values."
   ]
  },
  {
   "cell_type": "code",
   "execution_count": 12,
   "id": "723a34ed",
   "metadata": {},
   "outputs": [
    {
     "data": {
      "text/html": [
       "<div>\n",
       "<style scoped>\n",
       "    .dataframe tbody tr th:only-of-type {\n",
       "        vertical-align: middle;\n",
       "    }\n",
       "\n",
       "    .dataframe tbody tr th {\n",
       "        vertical-align: top;\n",
       "    }\n",
       "\n",
       "    .dataframe thead th {\n",
       "        text-align: right;\n",
       "    }\n",
       "</style>\n",
       "<table border=\"1\" class=\"dataframe\">\n",
       "  <thead>\n",
       "    <tr style=\"text-align: right;\">\n",
       "      <th></th>\n",
       "      <th>name</th>\n",
       "      <th>age</th>\n",
       "      <th>city</th>\n",
       "      <th>category</th>\n",
       "      <th>sales</th>\n",
       "      <th>date</th>\n",
       "    </tr>\n",
       "  </thead>\n",
       "  <tbody>\n",
       "    <tr>\n",
       "      <th>0</th>\n",
       "      <td>Utkarsh</td>\n",
       "      <td>25.0</td>\n",
       "      <td>Pune</td>\n",
       "      <td>A</td>\n",
       "      <td>400</td>\n",
       "      <td>2022-01-01</td>\n",
       "    </tr>\n",
       "    <tr>\n",
       "      <th>1</th>\n",
       "      <td>Aditi</td>\n",
       "      <td>30.0</td>\n",
       "      <td>Mumbai</td>\n",
       "      <td>B</td>\n",
       "      <td>200</td>\n",
       "      <td>2022-01-02</td>\n",
       "    </tr>\n",
       "    <tr>\n",
       "      <th>4</th>\n",
       "      <td>Kritika</td>\n",
       "      <td>35.0</td>\n",
       "      <td>Banaras</td>\n",
       "      <td>A</td>\n",
       "      <td>450</td>\n",
       "      <td>2022-01-05</td>\n",
       "    </tr>\n",
       "  </tbody>\n",
       "</table>\n",
       "</div>"
      ],
      "text/plain": [
       "      name   age     city category  sales        date\n",
       "0  Utkarsh  25.0     Pune        A    400  2022-01-01\n",
       "1    Aditi  30.0   Mumbai        B    200  2022-01-02\n",
       "4  Kritika  35.0  Banaras        A    450  2022-01-05"
      ]
     },
     "execution_count": 12,
     "metadata": {},
     "output_type": "execute_result"
    }
   ],
   "source": [
    "dropped_df5 = df5.dropna(axis=0)\n",
    "dropped_df5"
   ]
  },
  {
   "cell_type": "markdown",
   "id": "3122d314",
   "metadata": {},
   "source": [
    "### 2. fillna(): Fills missing values with a specified value or method."
   ]
  },
  {
   "cell_type": "code",
   "execution_count": 13,
   "id": "13bd468a",
   "metadata": {},
   "outputs": [
    {
     "data": {
      "text/html": [
       "<div>\n",
       "<style scoped>\n",
       "    .dataframe tbody tr th:only-of-type {\n",
       "        vertical-align: middle;\n",
       "    }\n",
       "\n",
       "    .dataframe tbody tr th {\n",
       "        vertical-align: top;\n",
       "    }\n",
       "\n",
       "    .dataframe thead th {\n",
       "        text-align: right;\n",
       "    }\n",
       "</style>\n",
       "<table border=\"1\" class=\"dataframe\">\n",
       "  <thead>\n",
       "    <tr style=\"text-align: right;\">\n",
       "      <th></th>\n",
       "      <th>name</th>\n",
       "      <th>age</th>\n",
       "      <th>city</th>\n",
       "      <th>category</th>\n",
       "      <th>sales</th>\n",
       "      <th>date</th>\n",
       "    </tr>\n",
       "  </thead>\n",
       "  <tbody>\n",
       "    <tr>\n",
       "      <th>0</th>\n",
       "      <td>Utkarsh</td>\n",
       "      <td>25.0</td>\n",
       "      <td>Pune</td>\n",
       "      <td>A</td>\n",
       "      <td>400</td>\n",
       "      <td>2022-01-01</td>\n",
       "    </tr>\n",
       "    <tr>\n",
       "      <th>1</th>\n",
       "      <td>Aditi</td>\n",
       "      <td>30.0</td>\n",
       "      <td>Mumbai</td>\n",
       "      <td>B</td>\n",
       "      <td>200</td>\n",
       "      <td>2022-01-02</td>\n",
       "    </tr>\n",
       "    <tr>\n",
       "      <th>2</th>\n",
       "      <td>Nitin</td>\n",
       "      <td>0.0</td>\n",
       "      <td>Delhi</td>\n",
       "      <td>A</td>\n",
       "      <td>250</td>\n",
       "      <td>2022-01-03</td>\n",
       "    </tr>\n",
       "    <tr>\n",
       "      <th>3</th>\n",
       "      <td>Bhushan</td>\n",
       "      <td>40.0</td>\n",
       "      <td>0</td>\n",
       "      <td>B</td>\n",
       "      <td>150</td>\n",
       "      <td>2022-01-04</td>\n",
       "    </tr>\n",
       "    <tr>\n",
       "      <th>4</th>\n",
       "      <td>Kritika</td>\n",
       "      <td>35.0</td>\n",
       "      <td>Banaras</td>\n",
       "      <td>A</td>\n",
       "      <td>450</td>\n",
       "      <td>2022-01-05</td>\n",
       "    </tr>\n",
       "  </tbody>\n",
       "</table>\n",
       "</div>"
      ],
      "text/plain": [
       "      name   age     city category  sales        date\n",
       "0  Utkarsh  25.0     Pune        A    400  2022-01-01\n",
       "1    Aditi  30.0   Mumbai        B    200  2022-01-02\n",
       "2    Nitin   0.0    Delhi        A    250  2022-01-03\n",
       "3  Bhushan  40.0        0        B    150  2022-01-04\n",
       "4  Kritika  35.0  Banaras        A    450  2022-01-05"
      ]
     },
     "execution_count": 13,
     "metadata": {},
     "output_type": "execute_result"
    }
   ],
   "source": [
    "filled_df5 = df5.fillna(0)\n",
    "filled_df5"
   ]
  },
  {
   "cell_type": "markdown",
   "id": "47e367c5",
   "metadata": {},
   "source": [
    "### 3. groupby(): Groups the DataFrame by one or more columns and allows for aggregation of the data."
   ]
  },
  {
   "cell_type": "code",
   "execution_count": 14,
   "id": "f55868ed",
   "metadata": {},
   "outputs": [
    {
     "data": {
      "text/html": [
       "<div>\n",
       "<style scoped>\n",
       "    .dataframe tbody tr th:only-of-type {\n",
       "        vertical-align: middle;\n",
       "    }\n",
       "\n",
       "    .dataframe tbody tr th {\n",
       "        vertical-align: top;\n",
       "    }\n",
       "\n",
       "    .dataframe thead th {\n",
       "        text-align: right;\n",
       "    }\n",
       "</style>\n",
       "<table border=\"1\" class=\"dataframe\">\n",
       "  <thead>\n",
       "    <tr style=\"text-align: right;\">\n",
       "      <th></th>\n",
       "      <th>age</th>\n",
       "      <th>sales</th>\n",
       "    </tr>\n",
       "    <tr>\n",
       "      <th>category</th>\n",
       "      <th></th>\n",
       "      <th></th>\n",
       "    </tr>\n",
       "  </thead>\n",
       "  <tbody>\n",
       "    <tr>\n",
       "      <th>A</th>\n",
       "      <td>30.0</td>\n",
       "      <td>366.666667</td>\n",
       "    </tr>\n",
       "    <tr>\n",
       "      <th>B</th>\n",
       "      <td>35.0</td>\n",
       "      <td>175.000000</td>\n",
       "    </tr>\n",
       "  </tbody>\n",
       "</table>\n",
       "</div>"
      ],
      "text/plain": [
       "           age       sales\n",
       "category                  \n",
       "A         30.0  366.666667\n",
       "B         35.0  175.000000"
      ]
     },
     "execution_count": 14,
     "metadata": {},
     "output_type": "execute_result"
    }
   ],
   "source": [
    "sales_mean = df5.groupby('category').mean(numeric_only=True)\n",
    "sales_mean"
   ]
  },
  {
   "cell_type": "markdown",
   "id": "716001b2",
   "metadata": {},
   "source": [
    "### 4. sort_values(): Sorts the DataFrame by one or more columns."
   ]
  },
  {
   "cell_type": "code",
   "execution_count": 15,
   "id": "95fd302f",
   "metadata": {},
   "outputs": [
    {
     "data": {
      "text/html": [
       "<div>\n",
       "<style scoped>\n",
       "    .dataframe tbody tr th:only-of-type {\n",
       "        vertical-align: middle;\n",
       "    }\n",
       "\n",
       "    .dataframe tbody tr th {\n",
       "        vertical-align: top;\n",
       "    }\n",
       "\n",
       "    .dataframe thead th {\n",
       "        text-align: right;\n",
       "    }\n",
       "</style>\n",
       "<table border=\"1\" class=\"dataframe\">\n",
       "  <thead>\n",
       "    <tr style=\"text-align: right;\">\n",
       "      <th></th>\n",
       "      <th>name</th>\n",
       "      <th>age</th>\n",
       "      <th>city</th>\n",
       "      <th>category</th>\n",
       "      <th>sales</th>\n",
       "      <th>date</th>\n",
       "    </tr>\n",
       "  </thead>\n",
       "  <tbody>\n",
       "    <tr>\n",
       "      <th>4</th>\n",
       "      <td>Kritika</td>\n",
       "      <td>35.0</td>\n",
       "      <td>Banaras</td>\n",
       "      <td>A</td>\n",
       "      <td>450</td>\n",
       "      <td>2022-01-05</td>\n",
       "    </tr>\n",
       "    <tr>\n",
       "      <th>0</th>\n",
       "      <td>Utkarsh</td>\n",
       "      <td>25.0</td>\n",
       "      <td>Pune</td>\n",
       "      <td>A</td>\n",
       "      <td>400</td>\n",
       "      <td>2022-01-01</td>\n",
       "    </tr>\n",
       "    <tr>\n",
       "      <th>2</th>\n",
       "      <td>Nitin</td>\n",
       "      <td>NaN</td>\n",
       "      <td>Delhi</td>\n",
       "      <td>A</td>\n",
       "      <td>250</td>\n",
       "      <td>2022-01-03</td>\n",
       "    </tr>\n",
       "    <tr>\n",
       "      <th>1</th>\n",
       "      <td>Aditi</td>\n",
       "      <td>30.0</td>\n",
       "      <td>Mumbai</td>\n",
       "      <td>B</td>\n",
       "      <td>200</td>\n",
       "      <td>2022-01-02</td>\n",
       "    </tr>\n",
       "    <tr>\n",
       "      <th>3</th>\n",
       "      <td>Bhushan</td>\n",
       "      <td>40.0</td>\n",
       "      <td>None</td>\n",
       "      <td>B</td>\n",
       "      <td>150</td>\n",
       "      <td>2022-01-04</td>\n",
       "    </tr>\n",
       "  </tbody>\n",
       "</table>\n",
       "</div>"
      ],
      "text/plain": [
       "      name   age     city category  sales        date\n",
       "4  Kritika  35.0  Banaras        A    450  2022-01-05\n",
       "0  Utkarsh  25.0     Pune        A    400  2022-01-01\n",
       "2    Nitin   NaN    Delhi        A    250  2022-01-03\n",
       "1    Aditi  30.0   Mumbai        B    200  2022-01-02\n",
       "3  Bhushan  40.0     None        B    150  2022-01-04"
      ]
     },
     "execution_count": 15,
     "metadata": {},
     "output_type": "execute_result"
    }
   ],
   "source": [
    "# Sorting by Sales in descending order\n",
    "df5.sort_values(by='sales',ascending=False)"
   ]
  },
  {
   "cell_type": "markdown",
   "id": "fd728a5c",
   "metadata": {},
   "source": [
    "## Question 6: Which of the following is mutable in nature Series, DataFrame, Panel?\n",
    "---"
   ]
  },
  {
   "cell_type": "markdown",
   "id": "a1488f94",
   "metadata": {},
   "source": [
    "## Answer:\n",
    "\n",
    "### In pandas, Series and DataFrame are mutable in nature.\n",
    "\n",
    "### Panel is considered immutable.\n",
    "\n",
    "### That means, Series and DataFrame objects can be modified after they are created, and any changes made to them will be reflected in the original objects. On the other hand, Panel objects are generally not modified once created, and any changes made to them usually result in the creation of a new object.\n",
    "\n",
    "### Note that while Series and DataFrame objects are mutable, it is generally recommended to avoid modifying them in place, as this can lead to unexpected results and errors. Instead, it is often better to create a new object with the desired modifications."
   ]
  },
  {
   "cell_type": "markdown",
   "id": "ec5b4dba",
   "metadata": {},
   "source": [
    "## Question 7 : Create a DataFrame using multiple Series. Explain with an example.\n",
    "---"
   ]
  },
  {
   "cell_type": "markdown",
   "id": "da0fd69d",
   "metadata": {},
   "source": [
    "## Answer:\n",
    "\n",
    "### By using concat() method you can merge multiple series together into DataFrame. This takes several params, for our scenario we use list that takes series to combine and axis=1 to specify merge series as columns instead of rows. Note that using axis=0 appends series to rows instead of columns."
   ]
  },
  {
   "cell_type": "code",
   "execution_count": 16,
   "id": "75229d96",
   "metadata": {},
   "outputs": [
    {
     "data": {
      "text/html": [
       "<div>\n",
       "<style scoped>\n",
       "    .dataframe tbody tr th:only-of-type {\n",
       "        vertical-align: middle;\n",
       "    }\n",
       "\n",
       "    .dataframe tbody tr th {\n",
       "        vertical-align: top;\n",
       "    }\n",
       "\n",
       "    .dataframe thead th {\n",
       "        text-align: right;\n",
       "    }\n",
       "</style>\n",
       "<table border=\"1\" class=\"dataframe\">\n",
       "  <thead>\n",
       "    <tr style=\"text-align: right;\">\n",
       "      <th></th>\n",
       "      <th>course</th>\n",
       "      <th>fees</th>\n",
       "      <th>discount</th>\n",
       "    </tr>\n",
       "  </thead>\n",
       "  <tbody>\n",
       "    <tr>\n",
       "      <th>0</th>\n",
       "      <td>Data Science Masters</td>\n",
       "      <td>7000</td>\n",
       "      <td>3500</td>\n",
       "    </tr>\n",
       "    <tr>\n",
       "      <th>1</th>\n",
       "      <td>Java with DSA</td>\n",
       "      <td>7500</td>\n",
       "      <td>3000</td>\n",
       "    </tr>\n",
       "    <tr>\n",
       "      <th>2</th>\n",
       "      <td>Full Stack Web Development</td>\n",
       "      <td>8000</td>\n",
       "      <td>2500</td>\n",
       "    </tr>\n",
       "  </tbody>\n",
       "</table>\n",
       "</div>"
      ],
      "text/plain": [
       "                       course  fees  discount\n",
       "0        Data Science Masters  7000      3500\n",
       "1               Java with DSA  7500      3000\n",
       "2  Full Stack Web Development  8000      2500"
      ]
     },
     "execution_count": 16,
     "metadata": {},
     "output_type": "execute_result"
    }
   ],
   "source": [
    "\n",
    "import pandas as pd\n",
    "# Create pandas Series\n",
    "courses = pd.Series([\"Data Science Masters\",\"Java with DSA\",\"Full Stack Web Development\"])\n",
    "fees = pd.Series([7000,7500,8000])\n",
    "discount  = pd.Series([3500,3000,2500])\n",
    "\n",
    "# concat() supports to combine multiple series.\n",
    "df7=pd.concat([courses,fees,discount],axis=1)\n",
    "df7.columns = ['course','fees','discount']\n",
    "df7"
   ]
  },
  {
   "cell_type": "code",
   "execution_count": null,
   "id": "cbb8a88e",
   "metadata": {},
   "outputs": [],
   "source": []
  }
 ],
 "metadata": {
  "kernelspec": {
   "display_name": "Python 3 (ipykernel)",
   "language": "python",
   "name": "python3"
  },
  "language_info": {
   "codemirror_mode": {
    "name": "ipython",
    "version": 3
   },
   "file_extension": ".py",
   "mimetype": "text/x-python",
   "name": "python",
   "nbconvert_exporter": "python",
   "pygments_lexer": "ipython3",
   "version": "3.11.3"
  }
 },
 "nbformat": 4,
 "nbformat_minor": 5
}
